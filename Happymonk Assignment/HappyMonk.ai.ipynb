{
 "cells": [
  {
   "cell_type": "code",
   "execution_count": 1,
   "id": "84c8d1b6",
   "metadata": {},
   "outputs": [],
   "source": [
    "import pandas as pd\n",
    "import tensorflow as tf\n",
    "from tensorflow import keras\n",
    "from tensorflow.keras import Sequential,layers,optimizers\n",
    "import matplotlib.pyplot as plt"
   ]
  },
  {
   "cell_type": "markdown",
   "id": "fb23f9c0",
   "metadata": {},
   "source": [
    "## Dataset - Bank Note\n",
    "\n",
    "<a href = 'https://www.kaggle.com/datasets/ritesaluja/bank-note-authentication-uci-data?resource=download'>Link to Dataset</a>"
   ]
  },
  {
   "cell_type": "code",
   "execution_count": 2,
   "id": "1eb2880f",
   "metadata": {},
   "outputs": [
    {
     "data": {
      "text/plain": [
       "(1372, 5)"
      ]
     },
     "execution_count": 2,
     "metadata": {},
     "output_type": "execute_result"
    }
   ],
   "source": [
    "data = pd.read_csv('data.csv')\n",
    "data.shape"
   ]
  },
  {
   "cell_type": "code",
   "execution_count": 3,
   "id": "a5a45d9d",
   "metadata": {},
   "outputs": [],
   "source": [
    "X,y = data.iloc[:,:4],data.iloc[:,4:]"
   ]
  },
  {
   "cell_type": "code",
   "execution_count": 4,
   "id": "0ebcad5c",
   "metadata": {},
   "outputs": [],
   "source": [
    "from sklearn.model_selection import train_test_split\n",
    "X_train,X_test,y_train,y_test = train_test_split(X,y,test_size=0.25)"
   ]
  },
  {
   "cell_type": "code",
   "execution_count": 5,
   "id": "78746125",
   "metadata": {},
   "outputs": [],
   "source": [
    "model = Sequential([\n",
    "    layers.Dense(10,input_shape=(4,),activation='relu'),\n",
    "    layers.Dense(1,activation='sigmoid')\n",
    "])\n",
    "model.compile(loss='binary_crossentropy', optimizer='adam', metrics=['accuracy'])\n",
    "#model.fit(X_train,y_train,epochs=10,batch_size=100)"
   ]
  },
  {
   "cell_type": "code",
   "execution_count": 6,
   "id": "e853c504",
   "metadata": {},
   "outputs": [
    {
     "name": "stdout",
     "output_type": "stream",
     "text": [
      "Epoch 1/10\n",
      "33/33 [==============================] - 2s 18ms/step - loss: 1.5742 - accuracy: 0.3567 - val_loss: 1.4801 - val_accuracy: 0.3907\n",
      "Epoch 2/10\n",
      "33/33 [==============================] - 0s 6ms/step - loss: 1.3202 - accuracy: 0.3926 - val_loss: 1.2581 - val_accuracy: 0.4286\n",
      "Epoch 3/10\n",
      "33/33 [==============================] - 0s 6ms/step - loss: 1.1214 - accuracy: 0.4208 - val_loss: 1.0775 - val_accuracy: 0.4519\n",
      "Epoch 4/10\n",
      "33/33 [==============================] - 0s 6ms/step - loss: 0.9578 - accuracy: 0.4529 - val_loss: 0.9134 - val_accuracy: 0.4810\n",
      "Epoch 5/10\n",
      "33/33 [==============================] - 0s 6ms/step - loss: 0.8092 - accuracy: 0.4956 - val_loss: 0.7669 - val_accuracy: 0.5335\n",
      "Epoch 6/10\n",
      "33/33 [==============================] - 0s 6ms/step - loss: 0.6848 - accuracy: 0.5627 - val_loss: 0.6465 - val_accuracy: 0.5743\n",
      "Epoch 7/10\n",
      "33/33 [==============================] - 0s 5ms/step - loss: 0.5806 - accuracy: 0.6190 - val_loss: 0.5515 - val_accuracy: 0.6093\n",
      "Epoch 8/10\n",
      "33/33 [==============================] - 0s 6ms/step - loss: 0.4967 - accuracy: 0.6647 - val_loss: 0.4685 - val_accuracy: 0.6647\n",
      "Epoch 9/10\n",
      "33/33 [==============================] - 0s 6ms/step - loss: 0.4251 - accuracy: 0.7580 - val_loss: 0.3996 - val_accuracy: 0.8222\n",
      "Epoch 10/10\n",
      "33/33 [==============================] - 0s 6ms/step - loss: 0.3641 - accuracy: 0.9116 - val_loss: 0.3407 - val_accuracy: 0.9300\n"
     ]
    },
    {
     "data": {
      "image/png": "[encoded data removed]",
      "text/plain": [
       "<Figure size 720x576 with 1 Axes>"
      ]
     },
     "metadata": {
      "needs_background": "light"
     },
     "output_type": "display_data"
    }
   ],
   "source": [
    "history = model.fit(X_train, y_train, validation_data=(X_test, y_test), batch_size=32, epochs=10, verbose=1)\n",
    "\n",
    "# Get training and test loss histories\n",
    "training_loss = history.history['loss']\n",
    "test_loss = history.history['val_loss']\n",
    "\n",
    "# Create count of the number of epochs\n",
    "epoch_count = range(1, len(training_loss) + 1)\n",
    "\n",
    "# Visualize loss history\n",
    "plt.figure(figsize=(10,8))\n",
    "plt.plot(epoch_count, training_loss, 'r--')\n",
    "plt.plot(epoch_count, test_loss, 'b-')\n",
    "plt.legend(['Training Loss', 'Test Loss'])\n",
    "plt.xlabel('Epoch')\n",
    "plt.ylabel('Loss')\n",
    "plt.show();"
   ]
  },
  {
   "cell_type": "code",
   "execution_count": 7,
   "id": "10c5c4ea",
   "metadata": {},
   "outputs": [
    {
     "name": "stdout",
     "output_type": "stream",
     "text": [
      "11/11 [==============================] - 0s 4ms/step - loss: 0.3407 - accuracy: 0.9300\n"
     ]
    },
    {
     "data": {
      "text/plain": [
       "[0.34071364998817444, 0.9300291538238525]"
      ]
     },
     "execution_count": 7,
     "metadata": {},
     "output_type": "execute_result"
    }
   ],
   "source": [
    "model.evaluate(X_test,y_test)"
   ]
  },
  {
   "cell_type": "markdown",
   "id": "09c58e5e",
   "metadata": {},
   "source": [
    "# Hidden layer nodes ~ Accuracy Score ~ 1/Loss"
   ]
  },
  {
   "cell_type": "code",
   "execution_count": 8,
   "id": "74d63d27",
   "metadata": {},
   "outputs": [
    {
     "name": "stdout",
     "output_type": "stream",
     "text": [
      "11/11 [==============================] - 0s 3ms/step\n",
      "[[177  12]\n",
      " [ 12 142]]\n"
     ]
    }
   ],
   "source": [
    "y_pred = model.predict(X_test)\n",
    "y_pred =(y_pred>0.5)\n",
    "list(y_pred)\n",
    "from sklearn.metrics import confusion_matrix\n",
    "cm = confusion_matrix(y_test, y_pred)\n",
    "print(cm)"
   ]
  },
  {
   "cell_type": "code",
   "execution_count": 9,
   "id": "0d970b42",
   "metadata": {},
   "outputs": [
    {
     "data": {
      "text/plain": [
       "<AxesSubplot:>"
      ]
     },
     "execution_count": 9,
     "metadata": {},
     "output_type": "execute_result"
    },
    {
     "data": {
      "image/png": "[encoded data removed]",
      "text/plain": [
       "<Figure size 576x432 with 2 Axes>"
      ]
     },
     "metadata": {
      "needs_background": "light"
     },
     "output_type": "display_data"
    }
   ],
   "source": [
    "import seaborn as sns\n",
    "plt.figure(figsize=(8,6))\n",
    "sns.heatmap(cm,annot=True,fmt='.3g')"
   ]
  },
  {
   "cell_type": "code",
   "execution_count": 10,
   "id": "b42a1184",
   "metadata": {},
   "outputs": [
    {
     "name": "stdout",
     "output_type": "stream",
     "text": [
      "              precision    recall  f1-score   support\n",
      "\n",
      "           0       0.94      0.94      0.94       189\n",
      "           1       0.92      0.92      0.92       154\n",
      "\n",
      "    accuracy                           0.93       343\n",
      "   macro avg       0.93      0.93      0.93       343\n",
      "weighted avg       0.93      0.93      0.93       343\n",
      "\n"
     ]
    }
   ],
   "source": [
    "from sklearn.metrics import classification_report\n",
    "\n",
    "print(classification_report(y_test,y_pred))"
   ]
  },
  {
   "cell_type": "code",
   "execution_count": null,
   "id": "ca424a39",
   "metadata": {},
   "outputs": [],
   "source": []
  }
 ],
 "metadata": {
  "kernelspec": {
   "display_name": "Python 3 (ipykernel)",
   "language": "python",
   "name": "python3"
  },
  "language_info": {
   "codemirror_mode": {
    "name": "ipython",
    "version": 3
   },
   "file_extension": ".py",
   "mimetype": "text/x-python",
   "name": "python",
   "nbconvert_exporter": "python",
   "pygments_lexer": "ipython3",
   "version": "3.9.6"
  }
 },
 "nbformat": 4,
 "nbformat_minor": 5
}
