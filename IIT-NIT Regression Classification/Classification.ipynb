{
 "cells": [
  {
   "cell_type": "code",
   "execution_count": 1,
   "id": "1b4ce646",
   "metadata": {},
   "outputs": [],
   "source": [
    "import pandas as pd\n",
    "import matplotlib.pyplot as plt\n",
    "import seaborn as sns\n",
    "%matplotlib inline"
   ]
  },
  {
   "cell_type": "code",
   "execution_count": 2,
   "id": "4523ee64",
   "metadata": {},
   "outputs": [
    {
     "data": {
      "text/html": [
       "<div>\n",
       "<style scoped>\n",
       "    .dataframe tbody tr th:only-of-type {\n",
       "        vertical-align: middle;\n",
       "    }\n",
       "\n",
       "    .dataframe tbody tr th {\n",
       "        vertical-align: top;\n",
       "    }\n",
       "\n",
       "    .dataframe thead th {\n",
       "        text-align: right;\n",
       "    }\n",
       "</style>\n",
       "<table border=\"1\" class=\"dataframe\">\n",
       "  <thead>\n",
       "    <tr style=\"text-align: right;\">\n",
       "      <th></th>\n",
       "      <th>id</th>\n",
       "      <th>year</th>\n",
       "      <th>institute_type</th>\n",
       "      <th>round_no</th>\n",
       "      <th>quota</th>\n",
       "      <th>pool</th>\n",
       "      <th>institute_short</th>\n",
       "      <th>program_name</th>\n",
       "      <th>program_duration</th>\n",
       "      <th>degree_short</th>\n",
       "      <th>category</th>\n",
       "      <th>opening_rank</th>\n",
       "      <th>closing_rank</th>\n",
       "      <th>is_preparatory</th>\n",
       "    </tr>\n",
       "  </thead>\n",
       "  <tbody>\n",
       "    <tr>\n",
       "      <th>0</th>\n",
       "      <td>1</td>\n",
       "      <td>2016</td>\n",
       "      <td>IIT</td>\n",
       "      <td>6</td>\n",
       "      <td>AI</td>\n",
       "      <td>Gender-Neutral</td>\n",
       "      <td>IIT-Bombay</td>\n",
       "      <td>Aerospace Engineering</td>\n",
       "      <td>4 Years</td>\n",
       "      <td>B.Tech</td>\n",
       "      <td>GEN</td>\n",
       "      <td>838</td>\n",
       "      <td>1841</td>\n",
       "      <td>0</td>\n",
       "    </tr>\n",
       "    <tr>\n",
       "      <th>1</th>\n",
       "      <td>2</td>\n",
       "      <td>2016</td>\n",
       "      <td>IIT</td>\n",
       "      <td>6</td>\n",
       "      <td>AI</td>\n",
       "      <td>Gender-Neutral</td>\n",
       "      <td>IIT-Bombay</td>\n",
       "      <td>Aerospace Engineering</td>\n",
       "      <td>4 Years</td>\n",
       "      <td>B.Tech</td>\n",
       "      <td>OBC-NCL</td>\n",
       "      <td>408</td>\n",
       "      <td>1098</td>\n",
       "      <td>0</td>\n",
       "    </tr>\n",
       "    <tr>\n",
       "      <th>2</th>\n",
       "      <td>3</td>\n",
       "      <td>2016</td>\n",
       "      <td>IIT</td>\n",
       "      <td>6</td>\n",
       "      <td>AI</td>\n",
       "      <td>Gender-Neutral</td>\n",
       "      <td>IIT-Bombay</td>\n",
       "      <td>Aerospace Engineering</td>\n",
       "      <td>4 Years</td>\n",
       "      <td>B.Tech</td>\n",
       "      <td>SC</td>\n",
       "      <td>297</td>\n",
       "      <td>468</td>\n",
       "      <td>0</td>\n",
       "    </tr>\n",
       "    <tr>\n",
       "      <th>3</th>\n",
       "      <td>4</td>\n",
       "      <td>2016</td>\n",
       "      <td>IIT</td>\n",
       "      <td>6</td>\n",
       "      <td>AI</td>\n",
       "      <td>Gender-Neutral</td>\n",
       "      <td>IIT-Bombay</td>\n",
       "      <td>Aerospace Engineering</td>\n",
       "      <td>4 Years</td>\n",
       "      <td>B.Tech</td>\n",
       "      <td>ST</td>\n",
       "      <td>79</td>\n",
       "      <td>145</td>\n",
       "      <td>0</td>\n",
       "    </tr>\n",
       "    <tr>\n",
       "      <th>4</th>\n",
       "      <td>5</td>\n",
       "      <td>2016</td>\n",
       "      <td>IIT</td>\n",
       "      <td>6</td>\n",
       "      <td>AI</td>\n",
       "      <td>Gender-Neutral</td>\n",
       "      <td>IIT-Bombay</td>\n",
       "      <td>Aerospace Engineering</td>\n",
       "      <td>4 Years</td>\n",
       "      <td>B.Tech</td>\n",
       "      <td>GEN-PWD</td>\n",
       "      <td>94</td>\n",
       "      <td>94</td>\n",
       "      <td>0</td>\n",
       "    </tr>\n",
       "    <tr>\n",
       "      <th>...</th>\n",
       "      <td>...</td>\n",
       "      <td>...</td>\n",
       "      <td>...</td>\n",
       "      <td>...</td>\n",
       "      <td>...</td>\n",
       "      <td>...</td>\n",
       "      <td>...</td>\n",
       "      <td>...</td>\n",
       "      <td>...</td>\n",
       "      <td>...</td>\n",
       "      <td>...</td>\n",
       "      <td>...</td>\n",
       "      <td>...</td>\n",
       "      <td>...</td>\n",
       "    </tr>\n",
       "    <tr>\n",
       "      <th>64953</th>\n",
       "      <td>31136</td>\n",
       "      <td>2021</td>\n",
       "      <td>NIT</td>\n",
       "      <td>1</td>\n",
       "      <td>JK</td>\n",
       "      <td>Female-Only</td>\n",
       "      <td>NIT-Srinagar</td>\n",
       "      <td>Electronics and Communication Engineering</td>\n",
       "      <td>4 Years</td>\n",
       "      <td>B.Tech</td>\n",
       "      <td>SC</td>\n",
       "      <td>14185</td>\n",
       "      <td>24048</td>\n",
       "      <td>0</td>\n",
       "    </tr>\n",
       "    <tr>\n",
       "      <th>64954</th>\n",
       "      <td>31137</td>\n",
       "      <td>2021</td>\n",
       "      <td>NIT</td>\n",
       "      <td>1</td>\n",
       "      <td>JK</td>\n",
       "      <td>Gender-Neutral</td>\n",
       "      <td>NIT-Srinagar</td>\n",
       "      <td>Electronics and Communication Engineering</td>\n",
       "      <td>4 Years</td>\n",
       "      <td>B.Tech</td>\n",
       "      <td>ST</td>\n",
       "      <td>2736</td>\n",
       "      <td>4171</td>\n",
       "      <td>0</td>\n",
       "    </tr>\n",
       "    <tr>\n",
       "      <th>64955</th>\n",
       "      <td>31138</td>\n",
       "      <td>2021</td>\n",
       "      <td>NIT</td>\n",
       "      <td>1</td>\n",
       "      <td>JK</td>\n",
       "      <td>Female-Only</td>\n",
       "      <td>NIT-Srinagar</td>\n",
       "      <td>Electronics and Communication Engineering</td>\n",
       "      <td>4 Years</td>\n",
       "      <td>B.Tech</td>\n",
       "      <td>ST</td>\n",
       "      <td>10870</td>\n",
       "      <td>10870</td>\n",
       "      <td>0</td>\n",
       "    </tr>\n",
       "    <tr>\n",
       "      <th>64956</th>\n",
       "      <td>31139</td>\n",
       "      <td>2021</td>\n",
       "      <td>NIT</td>\n",
       "      <td>1</td>\n",
       "      <td>LA</td>\n",
       "      <td>Gender-Neutral</td>\n",
       "      <td>NIT-Srinagar</td>\n",
       "      <td>Electronics and Communication Engineering</td>\n",
       "      <td>4 Years</td>\n",
       "      <td>B.Tech</td>\n",
       "      <td>GEN</td>\n",
       "      <td>166453</td>\n",
       "      <td>265454</td>\n",
       "      <td>0</td>\n",
       "    </tr>\n",
       "    <tr>\n",
       "      <th>64957</th>\n",
       "      <td>31140</td>\n",
       "      <td>2021</td>\n",
       "      <td>NIT</td>\n",
       "      <td>1</td>\n",
       "      <td>LA</td>\n",
       "      <td>Female-Only</td>\n",
       "      <td>NIT-Srinagar</td>\n",
       "      <td>Electronics and Communication Engineering</td>\n",
       "      <td>4 Years</td>\n",
       "      <td>B.Tech</td>\n",
       "      <td>GEN</td>\n",
       "      <td>215054</td>\n",
       "      <td>215054</td>\n",
       "      <td>0</td>\n",
       "    </tr>\n",
       "  </tbody>\n",
       "</table>\n",
       "<p>64958 rows × 14 columns</p>\n",
       "</div>"
      ],
      "text/plain": [
       "          id  year institute_type  round_no quota            pool  \\\n",
       "0          1  2016            IIT         6    AI  Gender-Neutral   \n",
       "1          2  2016            IIT         6    AI  Gender-Neutral   \n",
       "2          3  2016            IIT         6    AI  Gender-Neutral   \n",
       "3          4  2016            IIT         6    AI  Gender-Neutral   \n",
       "4          5  2016            IIT         6    AI  Gender-Neutral   \n",
       "...      ...   ...            ...       ...   ...             ...   \n",
       "64953  31136  2021            NIT         1    JK     Female-Only   \n",
       "64954  31137  2021            NIT         1    JK  Gender-Neutral   \n",
       "64955  31138  2021            NIT         1    JK     Female-Only   \n",
       "64956  31139  2021            NIT         1    LA  Gender-Neutral   \n",
       "64957  31140  2021            NIT         1    LA     Female-Only   \n",
       "\n",
       "      institute_short                               program_name  \\\n",
       "0          IIT-Bombay                      Aerospace Engineering   \n",
       "1          IIT-Bombay                      Aerospace Engineering   \n",
       "2          IIT-Bombay                      Aerospace Engineering   \n",
       "3          IIT-Bombay                      Aerospace Engineering   \n",
       "4          IIT-Bombay                      Aerospace Engineering   \n",
       "...               ...                                        ...   \n",
       "64953    NIT-Srinagar  Electronics and Communication Engineering   \n",
       "64954    NIT-Srinagar  Electronics and Communication Engineering   \n",
       "64955    NIT-Srinagar  Electronics and Communication Engineering   \n",
       "64956    NIT-Srinagar  Electronics and Communication Engineering   \n",
       "64957    NIT-Srinagar  Electronics and Communication Engineering   \n",
       "\n",
       "      program_duration degree_short category  opening_rank  closing_rank  \\\n",
       "0              4 Years       B.Tech      GEN           838          1841   \n",
       "1              4 Years       B.Tech  OBC-NCL           408          1098   \n",
       "2              4 Years       B.Tech       SC           297           468   \n",
       "3              4 Years       B.Tech       ST            79           145   \n",
       "4              4 Years       B.Tech  GEN-PWD            94            94   \n",
       "...                ...          ...      ...           ...           ...   \n",
       "64953          4 Years       B.Tech       SC         14185         24048   \n",
       "64954          4 Years       B.Tech       ST          2736          4171   \n",
       "64955          4 Years       B.Tech       ST         10870         10870   \n",
       "64956          4 Years       B.Tech      GEN        166453        265454   \n",
       "64957          4 Years       B.Tech      GEN        215054        215054   \n",
       "\n",
       "       is_preparatory  \n",
       "0                   0  \n",
       "1                   0  \n",
       "2                   0  \n",
       "3                   0  \n",
       "4                   0  \n",
       "...               ...  \n",
       "64953               0  \n",
       "64954               0  \n",
       "64955               0  \n",
       "64956               0  \n",
       "64957               0  \n",
       "\n",
       "[64958 rows x 14 columns]"
      ]
     },
     "execution_count": 2,
     "metadata": {},
     "output_type": "execute_result"
    }
   ],
   "source": [
    "df = pd.DataFrame(pd.read_csv('data.csv'))\n",
    "df"
   ]
  },
  {
   "cell_type": "code",
   "execution_count": 3,
   "id": "770f728f",
   "metadata": {},
   "outputs": [
    {
     "data": {
      "text/plain": [
       "Index(['id', 'year', 'institute_type', 'round_no', 'quota', 'pool',\n",
       "       'institute_short', 'program_name', 'program_duration', 'degree_short',\n",
       "       'category', 'opening_rank', 'closing_rank', 'is_preparatory'],\n",
       "      dtype='object')"
      ]
     },
     "execution_count": 3,
     "metadata": {},
     "output_type": "execute_result"
    }
   ],
   "source": [
    "df.columns"
   ]
  },
  {
   "cell_type": "code",
   "execution_count": 4,
   "id": "24cbe512",
   "metadata": {},
   "outputs": [
    {
     "data": {
      "text/plain": [
       "id                   int64\n",
       "year                 int64\n",
       "institute_type      object\n",
       "round_no             int64\n",
       "quota               object\n",
       "pool                object\n",
       "institute_short     object\n",
       "program_name        object\n",
       "program_duration    object\n",
       "degree_short        object\n",
       "category            object\n",
       "opening_rank         int64\n",
       "closing_rank         int64\n",
       "is_preparatory       int64\n",
       "dtype: object"
      ]
     },
     "execution_count": 4,
     "metadata": {},
     "output_type": "execute_result"
    }
   ],
   "source": [
    "df.dtypes"
   ]
  },
  {
   "cell_type": "code",
   "execution_count": 5,
   "id": "81147422",
   "metadata": {},
   "outputs": [
    {
     "data": {
      "text/plain": [
       "IIT    32905\n",
       "NIT    32053\n",
       "Name: institute_type, dtype: int64"
      ]
     },
     "execution_count": 5,
     "metadata": {},
     "output_type": "execute_result"
    }
   ],
   "source": [
    "df.institute_type.value_counts()"
   ]
  },
  {
   "cell_type": "code",
   "execution_count": 6,
   "id": "2799c766",
   "metadata": {},
   "outputs": [
    {
     "data": {
      "text/plain": [
       "AI    32905\n",
       "OS    16962\n",
       "HS    14291\n",
       "JK      393\n",
       "GO      275\n",
       "AP       72\n",
       "LA       60\n",
       "Name: quota, dtype: int64"
      ]
     },
     "execution_count": 6,
     "metadata": {},
     "output_type": "execute_result"
    }
   ],
   "source": [
    "df.quota.value_counts()"
   ]
  },
  {
   "cell_type": "code",
   "execution_count": 7,
   "id": "06c8ab85",
   "metadata": {},
   "outputs": [
    {
     "data": {
      "text/plain": [
       "id                  0\n",
       "year                0\n",
       "institute_type      0\n",
       "round_no            0\n",
       "quota               0\n",
       "pool                0\n",
       "institute_short     0\n",
       "program_name        0\n",
       "program_duration    0\n",
       "degree_short        0\n",
       "category            0\n",
       "opening_rank        0\n",
       "closing_rank        0\n",
       "is_preparatory      0\n",
       "dtype: int64"
      ]
     },
     "execution_count": 7,
     "metadata": {},
     "output_type": "execute_result"
    }
   ],
   "source": [
    "df.isnull().sum()"
   ]
  },
  {
   "cell_type": "code",
   "execution_count": 8,
   "id": "4a8608a4",
   "metadata": {},
   "outputs": [
    {
     "data": {
      "text/plain": [
       "Gender-Neutral    38785\n",
       "Female-Only       26173\n",
       "Name: pool, dtype: int64"
      ]
     },
     "execution_count": 8,
     "metadata": {},
     "output_type": "execute_result"
    }
   ],
   "source": [
    "df.pool.value_counts()"
   ]
  },
  {
   "cell_type": "code",
   "execution_count": 9,
   "id": "87e91e73",
   "metadata": {},
   "outputs": [
    {
     "data": {
      "text/plain": [
       "IIT-Kharagpur              5865\n",
       "IIT-Delhi                  2953\n",
       "IIT-Bombay                 2879\n",
       "NIT-Rourkela               2869\n",
       "IIT-Roorkee                2739\n",
       "IIT-Madras                 2454\n",
       "IIT-Kanpur                 2424\n",
       "IIT-(BHU) Varanasi         2293\n",
       "NIT-Raipur                 2053\n",
       "NIT-Hamirpur               1906\n",
       "NIT-Calicut                1900\n",
       "NIT-Karnataka-Surathkal    1787\n",
       "NIT-Bhopal                 1739\n",
       "NIT-Jalandhar              1724\n",
       "NIT-Durgapur               1670\n",
       "NIT-Agartala               1631\n",
       "NIT-Allahabad              1575\n",
       "IIT-(ISM) Dhanbad          1504\n",
       "NIT-Jaipur                 1479\n",
       "NIT-Jamshedpur             1290\n",
       "NIT-Kurukshetra            1272\n",
       "IIT-Bhubaneswar            1232\n",
       "NIT-Patna                  1213\n",
       "IIT-Hyderabad              1139\n",
       "IIT-Guwahati               1131\n",
       "NIT-Silchar                1119\n",
       "NIT-Srinagar                969\n",
       "NIT-Goa                     749\n",
       "IIT-Patna                   745\n",
       "IIT-Jodhpur                 685\n",
       "NIT-Puducherry              668\n",
       "IIT-Ropar                   656\n",
       "IIT-Mandi                   625\n",
       "NIT-Arunachal-Pradesh       588\n",
       "IIT-Gandhinagar             582\n",
       "NIT-Manipur                 563\n",
       "IIT-Jammu                   540\n",
       "IIT-Indore                  524\n",
       "NIT-Meghalaya               510\n",
       "IIT-Tirupati                500\n",
       "NIT-Delhi                   487\n",
       "NIT-Mizoram                 463\n",
       "NIT-Sikkim                  437\n",
       "NIT-Nagaland                425\n",
       "IIT-Palakkad                395\n",
       "IIT-Goa                     351\n",
       "IIT-Bhilai                  350\n",
       "IIT-Dharwad                 339\n",
       "NIT-Warangal                306\n",
       "NIT-Tiruchirappalli         303\n",
       "NIT-Uttarakhand              99\n",
       "NIT-Surat                    93\n",
       "NIT-Nagpur                   92\n",
       "NIT-Andhra-Pradesh           74\n",
       "Name: institute_short, dtype: int64"
      ]
     },
     "execution_count": 9,
     "metadata": {},
     "output_type": "execute_result"
    }
   ],
   "source": [
    "df.institute_short.value_counts()"
   ]
  },
  {
   "cell_type": "code",
   "execution_count": 10,
   "id": "c5467337",
   "metadata": {},
   "outputs": [
    {
     "data": {
      "text/plain": [
       "Computer Science and Engineering                                                                          8425\n",
       "Mechanical Engineering                                                                                    6739\n",
       "Civil Engineering                                                                                         6381\n",
       "Electrical Engineering                                                                                    5764\n",
       "Electronics and Communication Engineering                                                                 4804\n",
       "                                                                                                          ... \n",
       "Agricultural and Food Engineering with M.Tech. in any of the listedspecializations                           7\n",
       "Industrial and Systems Engineering with M.Tech. in Industrial and SystemsEngineering and Management          7\n",
       "Manufacturing Science and Engineering with M.Tech. in Industrial andSystems Engineering and Management       7\n",
       "Engineering Physics and M.Tech. with specialization in Nano Science                                          5\n",
       "Civil Engineering with M.Tech. in Structural Engineering                                                     4\n",
       "Name: program_name, Length: 130, dtype: int64"
      ]
     },
     "execution_count": 10,
     "metadata": {},
     "output_type": "execute_result"
    }
   ],
   "source": [
    "df.program_name.value_counts()"
   ]
  },
  {
   "cell_type": "code",
   "execution_count": 11,
   "id": "84232861",
   "metadata": {},
   "outputs": [
    {
     "data": {
      "text/plain": [
       "4 Years    54434\n",
       "5 Years    10524\n",
       "Name: program_duration, dtype: int64"
      ]
     },
     "execution_count": 11,
     "metadata": {},
     "output_type": "execute_result"
    }
   ],
   "source": [
    "df.program_duration.value_counts()"
   ]
  },
  {
   "cell_type": "code",
   "execution_count": 12,
   "id": "9b4e0171",
   "metadata": {},
   "outputs": [
    {
     "data": {
      "text/plain": [
       "31140"
      ]
     },
     "execution_count": 12,
     "metadata": {},
     "output_type": "execute_result"
    }
   ],
   "source": [
    "max(sorted(df.id.tolist()))"
   ]
  },
  {
   "cell_type": "code",
   "execution_count": 13,
   "id": "b60f5ffc",
   "metadata": {},
   "outputs": [
    {
     "data": {
      "text/plain": [
       "B.Tech                   52086\n",
       "B.Tech + M.Tech (IDD)     6030\n",
       "BSc                       2200\n",
       "B.Arch                    1343\n",
       "Btech + M.Tech (IDD)       868\n",
       "BS + MS (IDD)              660\n",
       "Int M.Tech                 594\n",
       "Int Msc.                   523\n",
       "Int MSc.                   298\n",
       "BSc + MSc (IDD)            204\n",
       "B.Plan                     144\n",
       "B.Pharm                      4\n",
       "B.Pharm + M.Pharm            4\n",
       "Name: degree_short, dtype: int64"
      ]
     },
     "execution_count": 13,
     "metadata": {},
     "output_type": "execute_result"
    }
   ],
   "source": [
    "df.degree_short.value_counts()"
   ]
  },
  {
   "cell_type": "code",
   "execution_count": 14,
   "id": "e462aa39",
   "metadata": {},
   "outputs": [
    {
     "data": {
      "text/plain": [
       "12730    6\n",
       "11829    6\n",
       "11831    6\n",
       "11832    6\n",
       "11833    6\n",
       "        ..\n",
       "17939    1\n",
       "17940    1\n",
       "17941    1\n",
       "17942    1\n",
       "1        1\n",
       "Name: id, Length: 25458, dtype: int64"
      ]
     },
     "execution_count": 14,
     "metadata": {},
     "output_type": "execute_result"
    }
   ],
   "source": [
    "df.id.value_counts()"
   ]
  },
  {
   "cell_type": "code",
   "execution_count": 15,
   "id": "c2f76b48",
   "metadata": {},
   "outputs": [
    {
     "data": {
      "text/html": [
       "<div>\n",
       "<style scoped>\n",
       "    .dataframe tbody tr th:only-of-type {\n",
       "        vertical-align: middle;\n",
       "    }\n",
       "\n",
       "    .dataframe tbody tr th {\n",
       "        vertical-align: top;\n",
       "    }\n",
       "\n",
       "    .dataframe thead th {\n",
       "        text-align: right;\n",
       "    }\n",
       "</style>\n",
       "<table border=\"1\" class=\"dataframe\">\n",
       "  <thead>\n",
       "    <tr style=\"text-align: right;\">\n",
       "      <th></th>\n",
       "      <th>id</th>\n",
       "      <th>year</th>\n",
       "      <th>institute_type</th>\n",
       "      <th>round_no</th>\n",
       "      <th>quota</th>\n",
       "      <th>pool</th>\n",
       "      <th>institute_short</th>\n",
       "      <th>program_name</th>\n",
       "      <th>program_duration</th>\n",
       "      <th>degree_short</th>\n",
       "      <th>category</th>\n",
       "      <th>opening_rank</th>\n",
       "      <th>closing_rank</th>\n",
       "      <th>is_preparatory</th>\n",
       "    </tr>\n",
       "  </thead>\n",
       "  <tbody>\n",
       "    <tr>\n",
       "      <th>30229</th>\n",
       "      <td>12730</td>\n",
       "      <td>2021</td>\n",
       "      <td>IIT</td>\n",
       "      <td>2</td>\n",
       "      <td>AI</td>\n",
       "      <td>Gender-Neutral</td>\n",
       "      <td>IIT-Kanpur</td>\n",
       "      <td>Computer Science and Engineering</td>\n",
       "      <td>4 Years</td>\n",
       "      <td>B.Tech</td>\n",
       "      <td>GEN</td>\n",
       "      <td>115</td>\n",
       "      <td>216</td>\n",
       "      <td>0</td>\n",
       "    </tr>\n",
       "    <tr>\n",
       "      <th>30279</th>\n",
       "      <td>12730</td>\n",
       "      <td>2021</td>\n",
       "      <td>IIT</td>\n",
       "      <td>2</td>\n",
       "      <td>AI</td>\n",
       "      <td>Gender-Neutral</td>\n",
       "      <td>IIT-Kanpur</td>\n",
       "      <td>Computer Science and Engineering</td>\n",
       "      <td>4 Years</td>\n",
       "      <td>B.Tech</td>\n",
       "      <td>GEN</td>\n",
       "      <td>115</td>\n",
       "      <td>216</td>\n",
       "      <td>0</td>\n",
       "    </tr>\n",
       "    <tr>\n",
       "      <th>30329</th>\n",
       "      <td>12730</td>\n",
       "      <td>2021</td>\n",
       "      <td>IIT</td>\n",
       "      <td>2</td>\n",
       "      <td>AI</td>\n",
       "      <td>Gender-Neutral</td>\n",
       "      <td>IIT-Kanpur</td>\n",
       "      <td>Computer Science and Engineering</td>\n",
       "      <td>4 Years</td>\n",
       "      <td>B.Tech</td>\n",
       "      <td>GEN</td>\n",
       "      <td>115</td>\n",
       "      <td>216</td>\n",
       "      <td>0</td>\n",
       "    </tr>\n",
       "    <tr>\n",
       "      <th>30379</th>\n",
       "      <td>12730</td>\n",
       "      <td>2021</td>\n",
       "      <td>IIT</td>\n",
       "      <td>2</td>\n",
       "      <td>AI</td>\n",
       "      <td>Gender-Neutral</td>\n",
       "      <td>IIT-Kanpur</td>\n",
       "      <td>Computer Science and Engineering</td>\n",
       "      <td>4 Years</td>\n",
       "      <td>B.Tech</td>\n",
       "      <td>GEN</td>\n",
       "      <td>115</td>\n",
       "      <td>216</td>\n",
       "      <td>0</td>\n",
       "    </tr>\n",
       "    <tr>\n",
       "      <th>30429</th>\n",
       "      <td>12730</td>\n",
       "      <td>2021</td>\n",
       "      <td>IIT</td>\n",
       "      <td>2</td>\n",
       "      <td>AI</td>\n",
       "      <td>Gender-Neutral</td>\n",
       "      <td>IIT-Kanpur</td>\n",
       "      <td>Computer Science and Engineering</td>\n",
       "      <td>4 Years</td>\n",
       "      <td>B.Tech</td>\n",
       "      <td>GEN</td>\n",
       "      <td>115</td>\n",
       "      <td>216</td>\n",
       "      <td>0</td>\n",
       "    </tr>\n",
       "    <tr>\n",
       "      <th>30479</th>\n",
       "      <td>12730</td>\n",
       "      <td>2021</td>\n",
       "      <td>IIT</td>\n",
       "      <td>2</td>\n",
       "      <td>AI</td>\n",
       "      <td>Gender-Neutral</td>\n",
       "      <td>IIT-Kanpur</td>\n",
       "      <td>Computer Science and Engineering</td>\n",
       "      <td>4 Years</td>\n",
       "      <td>B.Tech</td>\n",
       "      <td>GEN</td>\n",
       "      <td>115</td>\n",
       "      <td>216</td>\n",
       "      <td>0</td>\n",
       "    </tr>\n",
       "  </tbody>\n",
       "</table>\n",
       "</div>"
      ],
      "text/plain": [
       "          id  year institute_type  round_no quota            pool  \\\n",
       "30229  12730  2021            IIT         2    AI  Gender-Neutral   \n",
       "30279  12730  2021            IIT         2    AI  Gender-Neutral   \n",
       "30329  12730  2021            IIT         2    AI  Gender-Neutral   \n",
       "30379  12730  2021            IIT         2    AI  Gender-Neutral   \n",
       "30429  12730  2021            IIT         2    AI  Gender-Neutral   \n",
       "30479  12730  2021            IIT         2    AI  Gender-Neutral   \n",
       "\n",
       "      institute_short                      program_name program_duration  \\\n",
       "30229      IIT-Kanpur  Computer Science and Engineering          4 Years   \n",
       "30279      IIT-Kanpur  Computer Science and Engineering          4 Years   \n",
       "30329      IIT-Kanpur  Computer Science and Engineering          4 Years   \n",
       "30379      IIT-Kanpur  Computer Science and Engineering          4 Years   \n",
       "30429      IIT-Kanpur  Computer Science and Engineering          4 Years   \n",
       "30479      IIT-Kanpur  Computer Science and Engineering          4 Years   \n",
       "\n",
       "      degree_short category  opening_rank  closing_rank  is_preparatory  \n",
       "30229       B.Tech      GEN           115           216               0  \n",
       "30279       B.Tech      GEN           115           216               0  \n",
       "30329       B.Tech      GEN           115           216               0  \n",
       "30379       B.Tech      GEN           115           216               0  \n",
       "30429       B.Tech      GEN           115           216               0  \n",
       "30479       B.Tech      GEN           115           216               0  "
      ]
     },
     "execution_count": 15,
     "metadata": {},
     "output_type": "execute_result"
    }
   ],
   "source": [
    "df[df.id==12730]"
   ]
  },
  {
   "cell_type": "code",
   "execution_count": 16,
   "id": "1637a102",
   "metadata": {},
   "outputs": [],
   "source": [
    "df = df.drop_duplicates()"
   ]
  },
  {
   "cell_type": "code",
   "execution_count": 17,
   "id": "249ac7f4",
   "metadata": {},
   "outputs": [
    {
     "data": {
      "text/html": [
       "<div>\n",
       "<style scoped>\n",
       "    .dataframe tbody tr th:only-of-type {\n",
       "        vertical-align: middle;\n",
       "    }\n",
       "\n",
       "    .dataframe tbody tr th {\n",
       "        vertical-align: top;\n",
       "    }\n",
       "\n",
       "    .dataframe thead th {\n",
       "        text-align: right;\n",
       "    }\n",
       "</style>\n",
       "<table border=\"1\" class=\"dataframe\">\n",
       "  <thead>\n",
       "    <tr style=\"text-align: right;\">\n",
       "      <th></th>\n",
       "      <th>id</th>\n",
       "      <th>year</th>\n",
       "      <th>institute_type</th>\n",
       "      <th>round_no</th>\n",
       "      <th>quota</th>\n",
       "      <th>pool</th>\n",
       "      <th>institute_short</th>\n",
       "      <th>program_name</th>\n",
       "      <th>program_duration</th>\n",
       "      <th>degree_short</th>\n",
       "      <th>category</th>\n",
       "      <th>opening_rank</th>\n",
       "      <th>closing_rank</th>\n",
       "      <th>is_preparatory</th>\n",
       "    </tr>\n",
       "  </thead>\n",
       "  <tbody>\n",
       "    <tr>\n",
       "      <th>0</th>\n",
       "      <td>1</td>\n",
       "      <td>2016</td>\n",
       "      <td>IIT</td>\n",
       "      <td>6</td>\n",
       "      <td>AI</td>\n",
       "      <td>Gender-Neutral</td>\n",
       "      <td>IIT-Bombay</td>\n",
       "      <td>Aerospace Engineering</td>\n",
       "      <td>4 Years</td>\n",
       "      <td>B.Tech</td>\n",
       "      <td>GEN</td>\n",
       "      <td>838</td>\n",
       "      <td>1841</td>\n",
       "      <td>0</td>\n",
       "    </tr>\n",
       "    <tr>\n",
       "      <th>1</th>\n",
       "      <td>2</td>\n",
       "      <td>2016</td>\n",
       "      <td>IIT</td>\n",
       "      <td>6</td>\n",
       "      <td>AI</td>\n",
       "      <td>Gender-Neutral</td>\n",
       "      <td>IIT-Bombay</td>\n",
       "      <td>Aerospace Engineering</td>\n",
       "      <td>4 Years</td>\n",
       "      <td>B.Tech</td>\n",
       "      <td>OBC-NCL</td>\n",
       "      <td>408</td>\n",
       "      <td>1098</td>\n",
       "      <td>0</td>\n",
       "    </tr>\n",
       "    <tr>\n",
       "      <th>2</th>\n",
       "      <td>3</td>\n",
       "      <td>2016</td>\n",
       "      <td>IIT</td>\n",
       "      <td>6</td>\n",
       "      <td>AI</td>\n",
       "      <td>Gender-Neutral</td>\n",
       "      <td>IIT-Bombay</td>\n",
       "      <td>Aerospace Engineering</td>\n",
       "      <td>4 Years</td>\n",
       "      <td>B.Tech</td>\n",
       "      <td>SC</td>\n",
       "      <td>297</td>\n",
       "      <td>468</td>\n",
       "      <td>0</td>\n",
       "    </tr>\n",
       "    <tr>\n",
       "      <th>3</th>\n",
       "      <td>4</td>\n",
       "      <td>2016</td>\n",
       "      <td>IIT</td>\n",
       "      <td>6</td>\n",
       "      <td>AI</td>\n",
       "      <td>Gender-Neutral</td>\n",
       "      <td>IIT-Bombay</td>\n",
       "      <td>Aerospace Engineering</td>\n",
       "      <td>4 Years</td>\n",
       "      <td>B.Tech</td>\n",
       "      <td>ST</td>\n",
       "      <td>79</td>\n",
       "      <td>145</td>\n",
       "      <td>0</td>\n",
       "    </tr>\n",
       "    <tr>\n",
       "      <th>4</th>\n",
       "      <td>5</td>\n",
       "      <td>2016</td>\n",
       "      <td>IIT</td>\n",
       "      <td>6</td>\n",
       "      <td>AI</td>\n",
       "      <td>Gender-Neutral</td>\n",
       "      <td>IIT-Bombay</td>\n",
       "      <td>Aerospace Engineering</td>\n",
       "      <td>4 Years</td>\n",
       "      <td>B.Tech</td>\n",
       "      <td>GEN-PWD</td>\n",
       "      <td>94</td>\n",
       "      <td>94</td>\n",
       "      <td>0</td>\n",
       "    </tr>\n",
       "    <tr>\n",
       "      <th>...</th>\n",
       "      <td>...</td>\n",
       "      <td>...</td>\n",
       "      <td>...</td>\n",
       "      <td>...</td>\n",
       "      <td>...</td>\n",
       "      <td>...</td>\n",
       "      <td>...</td>\n",
       "      <td>...</td>\n",
       "      <td>...</td>\n",
       "      <td>...</td>\n",
       "      <td>...</td>\n",
       "      <td>...</td>\n",
       "      <td>...</td>\n",
       "      <td>...</td>\n",
       "    </tr>\n",
       "    <tr>\n",
       "      <th>64703</th>\n",
       "      <td>31136</td>\n",
       "      <td>2021</td>\n",
       "      <td>NIT</td>\n",
       "      <td>1</td>\n",
       "      <td>JK</td>\n",
       "      <td>Female-Only</td>\n",
       "      <td>NIT-Srinagar</td>\n",
       "      <td>Electronics and Communication Engineering</td>\n",
       "      <td>4 Years</td>\n",
       "      <td>B.Tech</td>\n",
       "      <td>SC</td>\n",
       "      <td>14185</td>\n",
       "      <td>24048</td>\n",
       "      <td>0</td>\n",
       "    </tr>\n",
       "    <tr>\n",
       "      <th>64704</th>\n",
       "      <td>31137</td>\n",
       "      <td>2021</td>\n",
       "      <td>NIT</td>\n",
       "      <td>1</td>\n",
       "      <td>JK</td>\n",
       "      <td>Gender-Neutral</td>\n",
       "      <td>NIT-Srinagar</td>\n",
       "      <td>Electronics and Communication Engineering</td>\n",
       "      <td>4 Years</td>\n",
       "      <td>B.Tech</td>\n",
       "      <td>ST</td>\n",
       "      <td>2736</td>\n",
       "      <td>4171</td>\n",
       "      <td>0</td>\n",
       "    </tr>\n",
       "    <tr>\n",
       "      <th>64705</th>\n",
       "      <td>31138</td>\n",
       "      <td>2021</td>\n",
       "      <td>NIT</td>\n",
       "      <td>1</td>\n",
       "      <td>JK</td>\n",
       "      <td>Female-Only</td>\n",
       "      <td>NIT-Srinagar</td>\n",
       "      <td>Electronics and Communication Engineering</td>\n",
       "      <td>4 Years</td>\n",
       "      <td>B.Tech</td>\n",
       "      <td>ST</td>\n",
       "      <td>10870</td>\n",
       "      <td>10870</td>\n",
       "      <td>0</td>\n",
       "    </tr>\n",
       "    <tr>\n",
       "      <th>64706</th>\n",
       "      <td>31139</td>\n",
       "      <td>2021</td>\n",
       "      <td>NIT</td>\n",
       "      <td>1</td>\n",
       "      <td>LA</td>\n",
       "      <td>Gender-Neutral</td>\n",
       "      <td>NIT-Srinagar</td>\n",
       "      <td>Electronics and Communication Engineering</td>\n",
       "      <td>4 Years</td>\n",
       "      <td>B.Tech</td>\n",
       "      <td>GEN</td>\n",
       "      <td>166453</td>\n",
       "      <td>265454</td>\n",
       "      <td>0</td>\n",
       "    </tr>\n",
       "    <tr>\n",
       "      <th>64707</th>\n",
       "      <td>31140</td>\n",
       "      <td>2021</td>\n",
       "      <td>NIT</td>\n",
       "      <td>1</td>\n",
       "      <td>LA</td>\n",
       "      <td>Female-Only</td>\n",
       "      <td>NIT-Srinagar</td>\n",
       "      <td>Electronics and Communication Engineering</td>\n",
       "      <td>4 Years</td>\n",
       "      <td>B.Tech</td>\n",
       "      <td>GEN</td>\n",
       "      <td>215054</td>\n",
       "      <td>215054</td>\n",
       "      <td>0</td>\n",
       "    </tr>\n",
       "  </tbody>\n",
       "</table>\n",
       "<p>25458 rows × 14 columns</p>\n",
       "</div>"
      ],
      "text/plain": [
       "          id  year institute_type  round_no quota            pool  \\\n",
       "0          1  2016            IIT         6    AI  Gender-Neutral   \n",
       "1          2  2016            IIT         6    AI  Gender-Neutral   \n",
       "2          3  2016            IIT         6    AI  Gender-Neutral   \n",
       "3          4  2016            IIT         6    AI  Gender-Neutral   \n",
       "4          5  2016            IIT         6    AI  Gender-Neutral   \n",
       "...      ...   ...            ...       ...   ...             ...   \n",
       "64703  31136  2021            NIT         1    JK     Female-Only   \n",
       "64704  31137  2021            NIT         1    JK  Gender-Neutral   \n",
       "64705  31138  2021            NIT         1    JK     Female-Only   \n",
       "64706  31139  2021            NIT         1    LA  Gender-Neutral   \n",
       "64707  31140  2021            NIT         1    LA     Female-Only   \n",
       "\n",
       "      institute_short                               program_name  \\\n",
       "0          IIT-Bombay                      Aerospace Engineering   \n",
       "1          IIT-Bombay                      Aerospace Engineering   \n",
       "2          IIT-Bombay                      Aerospace Engineering   \n",
       "3          IIT-Bombay                      Aerospace Engineering   \n",
       "4          IIT-Bombay                      Aerospace Engineering   \n",
       "...               ...                                        ...   \n",
       "64703    NIT-Srinagar  Electronics and Communication Engineering   \n",
       "64704    NIT-Srinagar  Electronics and Communication Engineering   \n",
       "64705    NIT-Srinagar  Electronics and Communication Engineering   \n",
       "64706    NIT-Srinagar  Electronics and Communication Engineering   \n",
       "64707    NIT-Srinagar  Electronics and Communication Engineering   \n",
       "\n",
       "      program_duration degree_short category  opening_rank  closing_rank  \\\n",
       "0              4 Years       B.Tech      GEN           838          1841   \n",
       "1              4 Years       B.Tech  OBC-NCL           408          1098   \n",
       "2              4 Years       B.Tech       SC           297           468   \n",
       "3              4 Years       B.Tech       ST            79           145   \n",
       "4              4 Years       B.Tech  GEN-PWD            94            94   \n",
       "...                ...          ...      ...           ...           ...   \n",
       "64703          4 Years       B.Tech       SC         14185         24048   \n",
       "64704          4 Years       B.Tech       ST          2736          4171   \n",
       "64705          4 Years       B.Tech       ST         10870         10870   \n",
       "64706          4 Years       B.Tech      GEN        166453        265454   \n",
       "64707          4 Years       B.Tech      GEN        215054        215054   \n",
       "\n",
       "       is_preparatory  \n",
       "0                   0  \n",
       "1                   0  \n",
       "2                   0  \n",
       "3                   0  \n",
       "4                   0  \n",
       "...               ...  \n",
       "64703               0  \n",
       "64704               0  \n",
       "64705               0  \n",
       "64706               0  \n",
       "64707               0  \n",
       "\n",
       "[25458 rows x 14 columns]"
      ]
     },
     "execution_count": 17,
     "metadata": {},
     "output_type": "execute_result"
    }
   ],
   "source": [
    "df"
   ]
  },
  {
   "cell_type": "code",
   "execution_count": 18,
   "id": "28fa8c12",
   "metadata": {},
   "outputs": [
    {
     "data": {
      "text/html": [
       "<div>\n",
       "<style scoped>\n",
       "    .dataframe tbody tr th:only-of-type {\n",
       "        vertical-align: middle;\n",
       "    }\n",
       "\n",
       "    .dataframe tbody tr th {\n",
       "        vertical-align: top;\n",
       "    }\n",
       "\n",
       "    .dataframe thead th {\n",
       "        text-align: right;\n",
       "    }\n",
       "</style>\n",
       "<table border=\"1\" class=\"dataframe\">\n",
       "  <thead>\n",
       "    <tr style=\"text-align: right;\">\n",
       "      <th></th>\n",
       "      <th>id</th>\n",
       "      <th>year</th>\n",
       "      <th>institute_type</th>\n",
       "      <th>round_no</th>\n",
       "      <th>quota</th>\n",
       "      <th>pool</th>\n",
       "      <th>institute_short</th>\n",
       "      <th>program_name</th>\n",
       "      <th>program_duration</th>\n",
       "      <th>degree_short</th>\n",
       "      <th>category</th>\n",
       "      <th>opening_rank</th>\n",
       "      <th>closing_rank</th>\n",
       "      <th>is_preparatory</th>\n",
       "    </tr>\n",
       "  </thead>\n",
       "  <tbody>\n",
       "    <tr>\n",
       "      <th>30229</th>\n",
       "      <td>12730</td>\n",
       "      <td>2021</td>\n",
       "      <td>IIT</td>\n",
       "      <td>2</td>\n",
       "      <td>AI</td>\n",
       "      <td>Gender-Neutral</td>\n",
       "      <td>IIT-Kanpur</td>\n",
       "      <td>Computer Science and Engineering</td>\n",
       "      <td>4 Years</td>\n",
       "      <td>B.Tech</td>\n",
       "      <td>GEN</td>\n",
       "      <td>115</td>\n",
       "      <td>216</td>\n",
       "      <td>0</td>\n",
       "    </tr>\n",
       "  </tbody>\n",
       "</table>\n",
       "</div>"
      ],
      "text/plain": [
       "          id  year institute_type  round_no quota            pool  \\\n",
       "30229  12730  2021            IIT         2    AI  Gender-Neutral   \n",
       "\n",
       "      institute_short                      program_name program_duration  \\\n",
       "30229      IIT-Kanpur  Computer Science and Engineering          4 Years   \n",
       "\n",
       "      degree_short category  opening_rank  closing_rank  is_preparatory  \n",
       "30229       B.Tech      GEN           115           216               0  "
      ]
     },
     "execution_count": 18,
     "metadata": {},
     "output_type": "execute_result"
    }
   ],
   "source": [
    "df[df.id==12730]"
   ]
  },
  {
   "cell_type": "code",
   "execution_count": 19,
   "id": "d0968e4b",
   "metadata": {},
   "outputs": [
    {
     "data": {
      "text/plain": [
       "['id',\n",
       " 'year',\n",
       " 'institute_type',\n",
       " 'round_no',\n",
       " 'quota',\n",
       " 'pool',\n",
       " 'institute_short',\n",
       " 'program_name',\n",
       " 'program_duration',\n",
       " 'degree_short',\n",
       " 'category',\n",
       " 'opening_rank',\n",
       " 'closing_rank',\n",
       " 'is_preparatory']"
      ]
     },
     "execution_count": 19,
     "metadata": {},
     "output_type": "execute_result"
    }
   ],
   "source": [
    "col = df.columns.tolist()\n",
    "col"
   ]
  },
  {
   "cell_type": "code",
   "execution_count": 20,
   "id": "cdf01a45",
   "metadata": {},
   "outputs": [
    {
     "data": {
      "text/plain": [
       "id                   int64\n",
       "year                 int64\n",
       "institute_type      object\n",
       "round_no             int64\n",
       "quota               object\n",
       "pool                object\n",
       "institute_short     object\n",
       "program_name        object\n",
       "program_duration    object\n",
       "degree_short        object\n",
       "category            object\n",
       "opening_rank         int64\n",
       "closing_rank         int64\n",
       "is_preparatory       int64\n",
       "dtype: object"
      ]
     },
     "execution_count": 20,
     "metadata": {},
     "output_type": "execute_result"
    }
   ],
   "source": [
    "df.dtypes"
   ]
  },
  {
   "cell_type": "code",
   "execution_count": 21,
   "id": "5f451ad6",
   "metadata": {},
   "outputs": [],
   "source": [
    "type_dict = df.dtypes.to_dict()"
   ]
  },
  {
   "cell_type": "code",
   "execution_count": 22,
   "id": "90f02acc",
   "metadata": {},
   "outputs": [
    {
     "data": {
      "text/plain": [
       "['institute_type',\n",
       " 'quota',\n",
       " 'pool',\n",
       " 'institute_short',\n",
       " 'program_name',\n",
       " 'program_duration',\n",
       " 'degree_short',\n",
       " 'category']"
      ]
     },
     "execution_count": 22,
     "metadata": {},
     "output_type": "execute_result"
    }
   ],
   "source": [
    "categorical_variables = []\n",
    "for i in type_dict:\n",
    "    if type_dict[i]=='object':\n",
    "        categorical_variables.append(i)\n",
    "    else:\n",
    "        pass\n",
    "categorical_variables"
   ]
  },
  {
   "cell_type": "code",
   "execution_count": 23,
   "id": "34daaab8",
   "metadata": {},
   "outputs": [],
   "source": [
    "for feat in categorical_variables:\n",
    "    df = pd.concat([df,pd.get_dummies(df[feat],drop_first=True)],axis=1)\n",
    "    df.drop(feat,axis=1,inplace=True)"
   ]
  },
  {
   "cell_type": "code",
   "execution_count": 26,
   "id": "9157a279",
   "metadata": {},
   "outputs": [
    {
     "data": {
      "text/plain": [
       "0    24549\n",
       "1      909\n",
       "Name: is_preparatory, dtype: int64"
      ]
     },
     "execution_count": 26,
     "metadata": {},
     "output_type": "execute_result"
    }
   ],
   "source": [
    "df.is_preparatory.value_counts()"
   ]
  },
  {
   "cell_type": "code",
   "execution_count": 27,
   "id": "1af4e45b",
   "metadata": {},
   "outputs": [],
   "source": [
    "df = pd.concat([df.drop('year',axis=1),pd.get_dummies(df['year'])],axis=1)"
   ]
  },
  {
   "cell_type": "code",
   "execution_count": 28,
   "id": "9b14ee3e",
   "metadata": {},
   "outputs": [
    {
     "data": {
      "text/html": [
       "<div>\n",
       "<style scoped>\n",
       "    .dataframe tbody tr th:only-of-type {\n",
       "        vertical-align: middle;\n",
       "    }\n",
       "\n",
       "    .dataframe tbody tr th {\n",
       "        vertical-align: top;\n",
       "    }\n",
       "\n",
       "    .dataframe thead th {\n",
       "        text-align: right;\n",
       "    }\n",
       "</style>\n",
       "<table border=\"1\" class=\"dataframe\">\n",
       "  <thead>\n",
       "    <tr style=\"text-align: right;\">\n",
       "      <th></th>\n",
       "      <th>id</th>\n",
       "      <th>round_no</th>\n",
       "      <th>opening_rank</th>\n",
       "      <th>closing_rank</th>\n",
       "      <th>is_preparatory</th>\n",
       "      <th>NIT</th>\n",
       "      <th>AP</th>\n",
       "      <th>GO</th>\n",
       "      <th>HS</th>\n",
       "      <th>JK</th>\n",
       "      <th>...</th>\n",
       "      <th>SC</th>\n",
       "      <th>SC-PWD</th>\n",
       "      <th>ST</th>\n",
       "      <th>ST-PWD</th>\n",
       "      <th>2016</th>\n",
       "      <th>2017</th>\n",
       "      <th>2018</th>\n",
       "      <th>2019</th>\n",
       "      <th>2020</th>\n",
       "      <th>2021</th>\n",
       "    </tr>\n",
       "  </thead>\n",
       "  <tbody>\n",
       "    <tr>\n",
       "      <th>id</th>\n",
       "      <td>1.000000</td>\n",
       "      <td>-0.398482</td>\n",
       "      <td>0.203192</td>\n",
       "      <td>0.193094</td>\n",
       "      <td>-0.119910</td>\n",
       "      <td>0.911333</td>\n",
       "      <td>0.026426</td>\n",
       "      <td>0.059591</td>\n",
       "      <td>0.488781</td>\n",
       "      <td>0.096590</td>\n",
       "      <td>...</td>\n",
       "      <td>-0.030929</td>\n",
       "      <td>0.018343</td>\n",
       "      <td>-0.027835</td>\n",
       "      <td>0.018156</td>\n",
       "      <td>-0.256839</td>\n",
       "      <td>-0.308709</td>\n",
       "      <td>-0.348961</td>\n",
       "      <td>-0.035090</td>\n",
       "      <td>0.159887</td>\n",
       "      <td>0.355782</td>\n",
       "    </tr>\n",
       "    <tr>\n",
       "      <th>round_no</th>\n",
       "      <td>-0.398482</td>\n",
       "      <td>1.000000</td>\n",
       "      <td>-0.004794</td>\n",
       "      <td>0.000378</td>\n",
       "      <td>-0.070378</td>\n",
       "      <td>-0.057032</td>\n",
       "      <td>0.035871</td>\n",
       "      <td>-0.011755</td>\n",
       "      <td>-0.028857</td>\n",
       "      <td>-0.026274</td>\n",
       "      <td>...</td>\n",
       "      <td>0.019817</td>\n",
       "      <td>-0.008923</td>\n",
       "      <td>0.011827</td>\n",
       "      <td>-0.002941</td>\n",
       "      <td>0.115300</td>\n",
       "      <td>0.188063</td>\n",
       "      <td>0.240764</td>\n",
       "      <td>0.481477</td>\n",
       "      <td>0.265456</td>\n",
       "      <td>-0.983276</td>\n",
       "    </tr>\n",
       "    <tr>\n",
       "      <th>opening_rank</th>\n",
       "      <td>0.203192</td>\n",
       "      <td>-0.004794</td>\n",
       "      <td>1.000000</td>\n",
       "      <td>0.909783</td>\n",
       "      <td>-0.051632</td>\n",
       "      <td>0.211411</td>\n",
       "      <td>-0.005977</td>\n",
       "      <td>0.069319</td>\n",
       "      <td>0.235608</td>\n",
       "      <td>0.046965</td>\n",
       "      <td>...</td>\n",
       "      <td>-0.077960</td>\n",
       "      <td>-0.023878</td>\n",
       "      <td>-0.100381</td>\n",
       "      <td>-0.015653</td>\n",
       "      <td>-0.053960</td>\n",
       "      <td>-0.052912</td>\n",
       "      <td>-0.057510</td>\n",
       "      <td>0.039435</td>\n",
       "      <td>0.054692</td>\n",
       "      <td>-0.003297</td>\n",
       "    </tr>\n",
       "    <tr>\n",
       "      <th>closing_rank</th>\n",
       "      <td>0.193094</td>\n",
       "      <td>0.000378</td>\n",
       "      <td>0.909783</td>\n",
       "      <td>1.000000</td>\n",
       "      <td>-0.048560</td>\n",
       "      <td>0.203675</td>\n",
       "      <td>-0.007340</td>\n",
       "      <td>0.058340</td>\n",
       "      <td>0.244523</td>\n",
       "      <td>0.071531</td>\n",
       "      <td>...</td>\n",
       "      <td>-0.077361</td>\n",
       "      <td>-0.022274</td>\n",
       "      <td>-0.094118</td>\n",
       "      <td>-0.014590</td>\n",
       "      <td>-0.047687</td>\n",
       "      <td>-0.049306</td>\n",
       "      <td>-0.055574</td>\n",
       "      <td>0.041040</td>\n",
       "      <td>0.051609</td>\n",
       "      <td>-0.007898</td>\n",
       "    </tr>\n",
       "    <tr>\n",
       "      <th>is_preparatory</th>\n",
       "      <td>-0.119910</td>\n",
       "      <td>-0.070378</td>\n",
       "      <td>-0.051632</td>\n",
       "      <td>-0.048560</td>\n",
       "      <td>1.000000</td>\n",
       "      <td>-0.186091</td>\n",
       "      <td>-0.010248</td>\n",
       "      <td>-0.011777</td>\n",
       "      <td>-0.100851</td>\n",
       "      <td>-0.013679</td>\n",
       "      <td>...</td>\n",
       "      <td>-0.037695</td>\n",
       "      <td>0.059052</td>\n",
       "      <td>0.183453</td>\n",
       "      <td>0.031466</td>\n",
       "      <td>-0.049465</td>\n",
       "      <td>-0.042892</td>\n",
       "      <td>-0.054912</td>\n",
       "      <td>-0.020312</td>\n",
       "      <td>0.026176</td>\n",
       "      <td>0.070891</td>\n",
       "    </tr>\n",
       "    <tr>\n",
       "      <th>...</th>\n",
       "      <td>...</td>\n",
       "      <td>...</td>\n",
       "      <td>...</td>\n",
       "      <td>...</td>\n",
       "      <td>...</td>\n",
       "      <td>...</td>\n",
       "      <td>...</td>\n",
       "      <td>...</td>\n",
       "      <td>...</td>\n",
       "      <td>...</td>\n",
       "      <td>...</td>\n",
       "      <td>...</td>\n",
       "      <td>...</td>\n",
       "      <td>...</td>\n",
       "      <td>...</td>\n",
       "      <td>...</td>\n",
       "      <td>...</td>\n",
       "      <td>...</td>\n",
       "      <td>...</td>\n",
       "      <td>...</td>\n",
       "      <td>...</td>\n",
       "    </tr>\n",
       "    <tr>\n",
       "      <th>2017</th>\n",
       "      <td>-0.308709</td>\n",
       "      <td>0.188063</td>\n",
       "      <td>-0.052912</td>\n",
       "      <td>-0.049306</td>\n",
       "      <td>-0.042892</td>\n",
       "      <td>-0.215561</td>\n",
       "      <td>-0.011871</td>\n",
       "      <td>-0.013642</td>\n",
       "      <td>-0.116823</td>\n",
       "      <td>-0.015845</td>\n",
       "      <td>...</td>\n",
       "      <td>0.005951</td>\n",
       "      <td>-0.001349</td>\n",
       "      <td>0.018808</td>\n",
       "      <td>0.007725</td>\n",
       "      <td>-0.057299</td>\n",
       "      <td>1.000000</td>\n",
       "      <td>-0.063608</td>\n",
       "      <td>-0.127202</td>\n",
       "      <td>-0.131921</td>\n",
       "      <td>-0.149516</td>\n",
       "    </tr>\n",
       "    <tr>\n",
       "      <th>2018</th>\n",
       "      <td>-0.348961</td>\n",
       "      <td>0.240764</td>\n",
       "      <td>-0.057510</td>\n",
       "      <td>-0.055574</td>\n",
       "      <td>-0.054912</td>\n",
       "      <td>-0.275968</td>\n",
       "      <td>-0.015197</td>\n",
       "      <td>-0.017465</td>\n",
       "      <td>-0.149560</td>\n",
       "      <td>-0.020286</td>\n",
       "      <td>...</td>\n",
       "      <td>0.037518</td>\n",
       "      <td>-0.013613</td>\n",
       "      <td>0.012752</td>\n",
       "      <td>-0.015820</td>\n",
       "      <td>-0.073356</td>\n",
       "      <td>-0.063608</td>\n",
       "      <td>1.000000</td>\n",
       "      <td>-0.162848</td>\n",
       "      <td>-0.168889</td>\n",
       "      <td>-0.191414</td>\n",
       "    </tr>\n",
       "    <tr>\n",
       "      <th>2019</th>\n",
       "      <td>-0.035090</td>\n",
       "      <td>0.481477</td>\n",
       "      <td>0.039435</td>\n",
       "      <td>0.041040</td>\n",
       "      <td>-0.020312</td>\n",
       "      <td>0.169388</td>\n",
       "      <td>0.040057</td>\n",
       "      <td>0.003984</td>\n",
       "      <td>0.103487</td>\n",
       "      <td>-0.040567</td>\n",
       "      <td>...</td>\n",
       "      <td>-0.000855</td>\n",
       "      <td>-0.006184</td>\n",
       "      <td>-0.007766</td>\n",
       "      <td>-0.003569</td>\n",
       "      <td>-0.146696</td>\n",
       "      <td>-0.127202</td>\n",
       "      <td>-0.162848</td>\n",
       "      <td>1.000000</td>\n",
       "      <td>-0.337742</td>\n",
       "      <td>-0.382789</td>\n",
       "    </tr>\n",
       "    <tr>\n",
       "      <th>2020</th>\n",
       "      <td>0.159887</td>\n",
       "      <td>0.265456</td>\n",
       "      <td>0.054692</td>\n",
       "      <td>0.051609</td>\n",
       "      <td>0.026176</td>\n",
       "      <td>0.136028</td>\n",
       "      <td>-0.031519</td>\n",
       "      <td>0.012282</td>\n",
       "      <td>0.062095</td>\n",
       "      <td>0.052958</td>\n",
       "      <td>...</td>\n",
       "      <td>-0.011852</td>\n",
       "      <td>-0.000226</td>\n",
       "      <td>-0.010607</td>\n",
       "      <td>0.006107</td>\n",
       "      <td>-0.152138</td>\n",
       "      <td>-0.131921</td>\n",
       "      <td>-0.168889</td>\n",
       "      <td>-0.337742</td>\n",
       "      <td>1.000000</td>\n",
       "      <td>-0.396988</td>\n",
       "    </tr>\n",
       "    <tr>\n",
       "      <th>2021</th>\n",
       "      <td>0.355782</td>\n",
       "      <td>-0.983276</td>\n",
       "      <td>-0.003297</td>\n",
       "      <td>-0.007898</td>\n",
       "      <td>0.070891</td>\n",
       "      <td>0.022461</td>\n",
       "      <td>-0.035723</td>\n",
       "      <td>0.009080</td>\n",
       "      <td>0.012104</td>\n",
       "      <td>0.015942</td>\n",
       "      <td>...</td>\n",
       "      <td>-0.017440</td>\n",
       "      <td>0.007581</td>\n",
       "      <td>-0.011469</td>\n",
       "      <td>0.001222</td>\n",
       "      <td>-0.172430</td>\n",
       "      <td>-0.149516</td>\n",
       "      <td>-0.191414</td>\n",
       "      <td>-0.382789</td>\n",
       "      <td>-0.396988</td>\n",
       "      <td>1.000000</td>\n",
       "    </tr>\n",
       "  </tbody>\n",
       "</table>\n",
       "<p>223 rows × 223 columns</p>\n",
       "</div>"
      ],
      "text/plain": [
       "                      id  round_no  opening_rank  closing_rank  \\\n",
       "id              1.000000 -0.398482      0.203192      0.193094   \n",
       "round_no       -0.398482  1.000000     -0.004794      0.000378   \n",
       "opening_rank    0.203192 -0.004794      1.000000      0.909783   \n",
       "closing_rank    0.193094  0.000378      0.909783      1.000000   \n",
       "is_preparatory -0.119910 -0.070378     -0.051632     -0.048560   \n",
       "...                  ...       ...           ...           ...   \n",
       "2017           -0.308709  0.188063     -0.052912     -0.049306   \n",
       "2018           -0.348961  0.240764     -0.057510     -0.055574   \n",
       "2019           -0.035090  0.481477      0.039435      0.041040   \n",
       "2020            0.159887  0.265456      0.054692      0.051609   \n",
       "2021            0.355782 -0.983276     -0.003297     -0.007898   \n",
       "\n",
       "                is_preparatory       NIT        AP        GO        HS  \\\n",
       "id                   -0.119910  0.911333  0.026426  0.059591  0.488781   \n",
       "round_no             -0.070378 -0.057032  0.035871 -0.011755 -0.028857   \n",
       "opening_rank         -0.051632  0.211411 -0.005977  0.069319  0.235608   \n",
       "closing_rank         -0.048560  0.203675 -0.007340  0.058340  0.244523   \n",
       "is_preparatory        1.000000 -0.186091 -0.010248 -0.011777 -0.100851   \n",
       "...                        ...       ...       ...       ...       ...   \n",
       "2017                 -0.042892 -0.215561 -0.011871 -0.013642 -0.116823   \n",
       "2018                 -0.054912 -0.275968 -0.015197 -0.017465 -0.149560   \n",
       "2019                 -0.020312  0.169388  0.040057  0.003984  0.103487   \n",
       "2020                  0.026176  0.136028 -0.031519  0.012282  0.062095   \n",
       "2021                  0.070891  0.022461 -0.035723  0.009080  0.012104   \n",
       "\n",
       "                      JK  ...        SC    SC-PWD        ST    ST-PWD  \\\n",
       "id              0.096590  ... -0.030929  0.018343 -0.027835  0.018156   \n",
       "round_no       -0.026274  ...  0.019817 -0.008923  0.011827 -0.002941   \n",
       "opening_rank    0.046965  ... -0.077960 -0.023878 -0.100381 -0.015653   \n",
       "closing_rank    0.071531  ... -0.077361 -0.022274 -0.094118 -0.014590   \n",
       "is_preparatory -0.013679  ... -0.037695  0.059052  0.183453  0.031466   \n",
       "...                  ...  ...       ...       ...       ...       ...   \n",
       "2017           -0.015845  ...  0.005951 -0.001349  0.018808  0.007725   \n",
       "2018           -0.020286  ...  0.037518 -0.013613  0.012752 -0.015820   \n",
       "2019           -0.040567  ... -0.000855 -0.006184 -0.007766 -0.003569   \n",
       "2020            0.052958  ... -0.011852 -0.000226 -0.010607  0.006107   \n",
       "2021            0.015942  ... -0.017440  0.007581 -0.011469  0.001222   \n",
       "\n",
       "                    2016      2017      2018      2019      2020      2021  \n",
       "id             -0.256839 -0.308709 -0.348961 -0.035090  0.159887  0.355782  \n",
       "round_no        0.115300  0.188063  0.240764  0.481477  0.265456 -0.983276  \n",
       "opening_rank   -0.053960 -0.052912 -0.057510  0.039435  0.054692 -0.003297  \n",
       "closing_rank   -0.047687 -0.049306 -0.055574  0.041040  0.051609 -0.007898  \n",
       "is_preparatory -0.049465 -0.042892 -0.054912 -0.020312  0.026176  0.070891  \n",
       "...                  ...       ...       ...       ...       ...       ...  \n",
       "2017           -0.057299  1.000000 -0.063608 -0.127202 -0.131921 -0.149516  \n",
       "2018           -0.073356 -0.063608  1.000000 -0.162848 -0.168889 -0.191414  \n",
       "2019           -0.146696 -0.127202 -0.162848  1.000000 -0.337742 -0.382789  \n",
       "2020           -0.152138 -0.131921 -0.168889 -0.337742  1.000000 -0.396988  \n",
       "2021           -0.172430 -0.149516 -0.191414 -0.382789 -0.396988  1.000000  \n",
       "\n",
       "[223 rows x 223 columns]"
      ]
     },
     "execution_count": 28,
     "metadata": {},
     "output_type": "execute_result"
    }
   ],
   "source": [
    "df.corr()"
   ]
  },
  {
   "cell_type": "code",
   "execution_count": 31,
   "id": "bc8bdbef",
   "metadata": {},
   "outputs": [
    {
     "data": {
      "text/html": [
       "<div>\n",
       "<style scoped>\n",
       "    .dataframe tbody tr th:only-of-type {\n",
       "        vertical-align: middle;\n",
       "    }\n",
       "\n",
       "    .dataframe tbody tr th {\n",
       "        vertical-align: top;\n",
       "    }\n",
       "\n",
       "    .dataframe thead th {\n",
       "        text-align: right;\n",
       "    }\n",
       "</style>\n",
       "<table border=\"1\" class=\"dataframe\">\n",
       "  <thead>\n",
       "    <tr style=\"text-align: right;\">\n",
       "      <th></th>\n",
       "      <th>id</th>\n",
       "      <th>round_no</th>\n",
       "      <th>opening_rank</th>\n",
       "      <th>closing_rank</th>\n",
       "      <th>is_preparatory</th>\n",
       "      <th>NIT</th>\n",
       "      <th>AP</th>\n",
       "      <th>GO</th>\n",
       "      <th>HS</th>\n",
       "      <th>JK</th>\n",
       "      <th>...</th>\n",
       "      <th>SC</th>\n",
       "      <th>SC-PWD</th>\n",
       "      <th>ST</th>\n",
       "      <th>ST-PWD</th>\n",
       "      <th>2016</th>\n",
       "      <th>2017</th>\n",
       "      <th>2018</th>\n",
       "      <th>2019</th>\n",
       "      <th>2020</th>\n",
       "      <th>2021</th>\n",
       "    </tr>\n",
       "  </thead>\n",
       "  <tbody>\n",
       "    <tr>\n",
       "      <th>count</th>\n",
       "      <td>25458.000000</td>\n",
       "      <td>25458.000000</td>\n",
       "      <td>2.545800e+04</td>\n",
       "      <td>2.545800e+04</td>\n",
       "      <td>25458.000000</td>\n",
       "      <td>25458.000000</td>\n",
       "      <td>25458.000000</td>\n",
       "      <td>25458.000000</td>\n",
       "      <td>25458.000000</td>\n",
       "      <td>25458.000000</td>\n",
       "      <td>...</td>\n",
       "      <td>25458.000000</td>\n",
       "      <td>25458.000000</td>\n",
       "      <td>25458.000000</td>\n",
       "      <td>25458.000000</td>\n",
       "      <td>25458.000000</td>\n",
       "      <td>25458.000000</td>\n",
       "      <td>25458.000000</td>\n",
       "      <td>25458.000000</td>\n",
       "      <td>25458.000000</td>\n",
       "      <td>25458.000000</td>\n",
       "    </tr>\n",
       "    <tr>\n",
       "      <th>mean</th>\n",
       "      <td>15065.188978</td>\n",
       "      <td>4.864993</td>\n",
       "      <td>8.347711e+03</td>\n",
       "      <td>1.100359e+04</td>\n",
       "      <td>0.035706</td>\n",
       "      <td>0.483267</td>\n",
       "      <td>0.002828</td>\n",
       "      <td>0.003732</td>\n",
       "      <td>0.215492</td>\n",
       "      <td>0.005028</td>\n",
       "      <td>...</td>\n",
       "      <td>0.192788</td>\n",
       "      <td>0.007149</td>\n",
       "      <td>0.169966</td>\n",
       "      <td>0.003064</td>\n",
       "      <td>0.061984</td>\n",
       "      <td>0.047333</td>\n",
       "      <td>0.075300</td>\n",
       "      <td>0.245660</td>\n",
       "      <td>0.259408</td>\n",
       "      <td>0.310315</td>\n",
       "    </tr>\n",
       "    <tr>\n",
       "      <th>std</th>\n",
       "      <td>9630.192936</td>\n",
       "      <td>2.530553</td>\n",
       "      <td>2.946525e+04</td>\n",
       "      <td>4.170573e+04</td>\n",
       "      <td>0.185559</td>\n",
       "      <td>0.499730</td>\n",
       "      <td>0.053106</td>\n",
       "      <td>0.060974</td>\n",
       "      <td>0.411171</td>\n",
       "      <td>0.070731</td>\n",
       "      <td>...</td>\n",
       "      <td>0.394496</td>\n",
       "      <td>0.084251</td>\n",
       "      <td>0.375610</td>\n",
       "      <td>0.055268</td>\n",
       "      <td>0.241132</td>\n",
       "      <td>0.212354</td>\n",
       "      <td>0.263881</td>\n",
       "      <td>0.430486</td>\n",
       "      <td>0.438318</td>\n",
       "      <td>0.462632</td>\n",
       "    </tr>\n",
       "    <tr>\n",
       "      <th>min</th>\n",
       "      <td>1.000000</td>\n",
       "      <td>1.000000</td>\n",
       "      <td>0.000000e+00</td>\n",
       "      <td>0.000000e+00</td>\n",
       "      <td>0.000000</td>\n",
       "      <td>0.000000</td>\n",
       "      <td>0.000000</td>\n",
       "      <td>0.000000</td>\n",
       "      <td>0.000000</td>\n",
       "      <td>0.000000</td>\n",
       "      <td>...</td>\n",
       "      <td>0.000000</td>\n",
       "      <td>0.000000</td>\n",
       "      <td>0.000000</td>\n",
       "      <td>0.000000</td>\n",
       "      <td>0.000000</td>\n",
       "      <td>0.000000</td>\n",
       "      <td>0.000000</td>\n",
       "      <td>0.000000</td>\n",
       "      <td>0.000000</td>\n",
       "      <td>0.000000</td>\n",
       "    </tr>\n",
       "    <tr>\n",
       "      <th>25%</th>\n",
       "      <td>6365.250000</td>\n",
       "      <td>1.000000</td>\n",
       "      <td>6.550000e+02</td>\n",
       "      <td>8.260000e+02</td>\n",
       "      <td>0.000000</td>\n",
       "      <td>0.000000</td>\n",
       "      <td>0.000000</td>\n",
       "      <td>0.000000</td>\n",
       "      <td>0.000000</td>\n",
       "      <td>0.000000</td>\n",
       "      <td>...</td>\n",
       "      <td>0.000000</td>\n",
       "      <td>0.000000</td>\n",
       "      <td>0.000000</td>\n",
       "      <td>0.000000</td>\n",
       "      <td>0.000000</td>\n",
       "      <td>0.000000</td>\n",
       "      <td>0.000000</td>\n",
       "      <td>0.000000</td>\n",
       "      <td>0.000000</td>\n",
       "      <td>0.000000</td>\n",
       "    </tr>\n",
       "    <tr>\n",
       "      <th>50%</th>\n",
       "      <td>12729.500000</td>\n",
       "      <td>6.000000</td>\n",
       "      <td>2.237000e+03</td>\n",
       "      <td>2.715000e+03</td>\n",
       "      <td>0.000000</td>\n",
       "      <td>0.000000</td>\n",
       "      <td>0.000000</td>\n",
       "      <td>0.000000</td>\n",
       "      <td>0.000000</td>\n",
       "      <td>0.000000</td>\n",
       "      <td>...</td>\n",
       "      <td>0.000000</td>\n",
       "      <td>0.000000</td>\n",
       "      <td>0.000000</td>\n",
       "      <td>0.000000</td>\n",
       "      <td>0.000000</td>\n",
       "      <td>0.000000</td>\n",
       "      <td>0.000000</td>\n",
       "      <td>0.000000</td>\n",
       "      <td>0.000000</td>\n",
       "      <td>0.000000</td>\n",
       "    </tr>\n",
       "    <tr>\n",
       "      <th>75%</th>\n",
       "      <td>23803.750000</td>\n",
       "      <td>7.000000</td>\n",
       "      <td>6.781750e+03</td>\n",
       "      <td>8.155500e+03</td>\n",
       "      <td>0.000000</td>\n",
       "      <td>1.000000</td>\n",
       "      <td>0.000000</td>\n",
       "      <td>0.000000</td>\n",
       "      <td>0.000000</td>\n",
       "      <td>0.000000</td>\n",
       "      <td>...</td>\n",
       "      <td>0.000000</td>\n",
       "      <td>0.000000</td>\n",
       "      <td>0.000000</td>\n",
       "      <td>0.000000</td>\n",
       "      <td>0.000000</td>\n",
       "      <td>0.000000</td>\n",
       "      <td>0.000000</td>\n",
       "      <td>0.000000</td>\n",
       "      <td>1.000000</td>\n",
       "      <td>1.000000</td>\n",
       "    </tr>\n",
       "    <tr>\n",
       "      <th>max</th>\n",
       "      <td>31140.000000</td>\n",
       "      <td>7.000000</td>\n",
       "      <td>1.082601e+06</td>\n",
       "      <td>1.144790e+06</td>\n",
       "      <td>1.000000</td>\n",
       "      <td>1.000000</td>\n",
       "      <td>1.000000</td>\n",
       "      <td>1.000000</td>\n",
       "      <td>1.000000</td>\n",
       "      <td>1.000000</td>\n",
       "      <td>...</td>\n",
       "      <td>1.000000</td>\n",
       "      <td>1.000000</td>\n",
       "      <td>1.000000</td>\n",
       "      <td>1.000000</td>\n",
       "      <td>1.000000</td>\n",
       "      <td>1.000000</td>\n",
       "      <td>1.000000</td>\n",
       "      <td>1.000000</td>\n",
       "      <td>1.000000</td>\n",
       "      <td>1.000000</td>\n",
       "    </tr>\n",
       "  </tbody>\n",
       "</table>\n",
       "<p>8 rows × 223 columns</p>\n",
       "</div>"
      ],
      "text/plain": [
       "                 id      round_no  opening_rank  closing_rank  is_preparatory  \\\n",
       "count  25458.000000  25458.000000  2.545800e+04  2.545800e+04    25458.000000   \n",
       "mean   15065.188978      4.864993  8.347711e+03  1.100359e+04        0.035706   \n",
       "std     9630.192936      2.530553  2.946525e+04  4.170573e+04        0.185559   \n",
       "min        1.000000      1.000000  0.000000e+00  0.000000e+00        0.000000   \n",
       "25%     6365.250000      1.000000  6.550000e+02  8.260000e+02        0.000000   \n",
       "50%    12729.500000      6.000000  2.237000e+03  2.715000e+03        0.000000   \n",
       "75%    23803.750000      7.000000  6.781750e+03  8.155500e+03        0.000000   \n",
       "max    31140.000000      7.000000  1.082601e+06  1.144790e+06        1.000000   \n",
       "\n",
       "                NIT            AP            GO            HS            JK  \\\n",
       "count  25458.000000  25458.000000  25458.000000  25458.000000  25458.000000   \n",
       "mean       0.483267      0.002828      0.003732      0.215492      0.005028   \n",
       "std        0.499730      0.053106      0.060974      0.411171      0.070731   \n",
       "min        0.000000      0.000000      0.000000      0.000000      0.000000   \n",
       "25%        0.000000      0.000000      0.000000      0.000000      0.000000   \n",
       "50%        0.000000      0.000000      0.000000      0.000000      0.000000   \n",
       "75%        1.000000      0.000000      0.000000      0.000000      0.000000   \n",
       "max        1.000000      1.000000      1.000000      1.000000      1.000000   \n",
       "\n",
       "       ...            SC        SC-PWD            ST        ST-PWD  \\\n",
       "count  ...  25458.000000  25458.000000  25458.000000  25458.000000   \n",
       "mean   ...      0.192788      0.007149      0.169966      0.003064   \n",
       "std    ...      0.394496      0.084251      0.375610      0.055268   \n",
       "min    ...      0.000000      0.000000      0.000000      0.000000   \n",
       "25%    ...      0.000000      0.000000      0.000000      0.000000   \n",
       "50%    ...      0.000000      0.000000      0.000000      0.000000   \n",
       "75%    ...      0.000000      0.000000      0.000000      0.000000   \n",
       "max    ...      1.000000      1.000000      1.000000      1.000000   \n",
       "\n",
       "               2016          2017          2018          2019          2020  \\\n",
       "count  25458.000000  25458.000000  25458.000000  25458.000000  25458.000000   \n",
       "mean       0.061984      0.047333      0.075300      0.245660      0.259408   \n",
       "std        0.241132      0.212354      0.263881      0.430486      0.438318   \n",
       "min        0.000000      0.000000      0.000000      0.000000      0.000000   \n",
       "25%        0.000000      0.000000      0.000000      0.000000      0.000000   \n",
       "50%        0.000000      0.000000      0.000000      0.000000      0.000000   \n",
       "75%        0.000000      0.000000      0.000000      0.000000      1.000000   \n",
       "max        1.000000      1.000000      1.000000      1.000000      1.000000   \n",
       "\n",
       "               2021  \n",
       "count  25458.000000  \n",
       "mean       0.310315  \n",
       "std        0.462632  \n",
       "min        0.000000  \n",
       "25%        0.000000  \n",
       "50%        0.000000  \n",
       "75%        1.000000  \n",
       "max        1.000000  \n",
       "\n",
       "[8 rows x 223 columns]"
      ]
     },
     "execution_count": 31,
     "metadata": {},
     "output_type": "execute_result"
    }
   ],
   "source": [
    "df.describe()"
   ]
  },
  {
   "cell_type": "code",
   "execution_count": 77,
   "id": "6535958a",
   "metadata": {},
   "outputs": [],
   "source": [
    "X = df.drop(['is_preparatory','id'],axis=1)\n",
    "y = df.is_preparatory"
   ]
  },
  {
   "cell_type": "code",
   "execution_count": 78,
   "id": "efadf251",
   "metadata": {},
   "outputs": [],
   "source": [
    "from sklearn.linear_model import LogisticRegression\n",
    "classifier = LogisticRegression()"
   ]
  },
  {
   "cell_type": "code",
   "execution_count": 79,
   "id": "b4f1acae",
   "metadata": {},
   "outputs": [],
   "source": [
    "from sklearn.model_selection import cross_val_score\n",
    "score = cross_val_score(classifier,X,y,cv=10)"
   ]
  },
  {
   "cell_type": "code",
   "execution_count": 80,
   "id": "a5f16e33",
   "metadata": {},
   "outputs": [
    {
     "data": {
      "text/plain": [
       "array([0.95522388, 0.96425766, 0.96347211, 0.91830322, 0.87195601,\n",
       "       0.96857816, 0.96936371, 0.97250589, 0.96620825, 0.9654224 ])"
      ]
     },
     "execution_count": 80,
     "metadata": {},
     "output_type": "execute_result"
    }
   ],
   "source": [
    "score"
   ]
  },
  {
   "cell_type": "code",
   "execution_count": 44,
   "id": "26d3ac18",
   "metadata": {},
   "outputs": [],
   "source": [
    "import numpy as np"
   ]
  },
  {
   "cell_type": "code",
   "execution_count": 81,
   "id": "a094f2f4",
   "metadata": {},
   "outputs": [
    {
     "data": {
      "text/plain": [
       "0.9515291292477741"
      ]
     },
     "execution_count": 81,
     "metadata": {},
     "output_type": "execute_result"
    }
   ],
   "source": [
    "np.mean(score)"
   ]
  },
  {
   "cell_type": "code",
   "execution_count": 49,
   "id": "df4d71f6",
   "metadata": {},
   "outputs": [],
   "source": [
    "from sklearn.tree import DecisionTreeClassifier\n",
    "tree_classifier = DecisionTreeClassifier()"
   ]
  },
  {
   "cell_type": "code",
   "execution_count": 50,
   "id": "ae5fdc69",
   "metadata": {},
   "outputs": [],
   "source": [
    "from warnings import filterwarnings\n",
    "filterwarnings('ignore')"
   ]
  },
  {
   "cell_type": "code",
   "execution_count": 51,
   "id": "c128fc93",
   "metadata": {},
   "outputs": [],
   "source": [
    "tree_score = cross_val_score(tree_classifier,X,y,cv=10)"
   ]
  },
  {
   "cell_type": "code",
   "execution_count": 52,
   "id": "9cee5722",
   "metadata": {},
   "outputs": [
    {
     "data": {
      "text/plain": [
       "array([0.96307934, 0.94501178, 0.89709348, 0.8735271 , 0.5974077 ,\n",
       "       0.99214454, 0.98350353, 0.98193244, 0.97642436, 0.96738703])"
      ]
     },
     "execution_count": 52,
     "metadata": {},
     "output_type": "execute_result"
    }
   ],
   "source": [
    "tree_score"
   ]
  },
  {
   "cell_type": "code",
   "execution_count": 53,
   "id": "bee83424",
   "metadata": {},
   "outputs": [
    {
     "data": {
      "text/plain": [
       "0.917751131633735"
      ]
     },
     "execution_count": 53,
     "metadata": {},
     "output_type": "execute_result"
    }
   ],
   "source": [
    "np.mean(tree_score)"
   ]
  },
  {
   "cell_type": "code",
   "execution_count": 55,
   "id": "7c4e9500",
   "metadata": {},
   "outputs": [
    {
     "data": {
      "text/plain": [
       "DecisionTreeClassifier()"
      ]
     },
     "execution_count": 55,
     "metadata": {},
     "output_type": "execute_result"
    }
   ],
   "source": [
    "test_classifier = DecisionTreeClassifier()\n",
    "test_classifier.fit(X_train,y_train)"
   ]
  },
  {
   "cell_type": "code",
   "execution_count": 61,
   "id": "6a20c341",
   "metadata": {},
   "outputs": [
    {
     "data": {
      "text/plain": [
       "1.0"
      ]
     },
     "execution_count": 61,
     "metadata": {},
     "output_type": "execute_result"
    }
   ],
   "source": [
    "test_classifier.score(X_train,y_train)"
   ]
  },
  {
   "cell_type": "code",
   "execution_count": 62,
   "id": "fb7c99f2",
   "metadata": {},
   "outputs": [
    {
     "data": {
      "text/plain": [
       "0.9774810159727677"
      ]
     },
     "execution_count": 62,
     "metadata": {},
     "output_type": "execute_result"
    }
   ],
   "source": [
    "test_classifier.score(X_test,y_test)"
   ]
  },
  {
   "cell_type": "code",
   "execution_count": 82,
   "id": "35b61850",
   "metadata": {},
   "outputs": [],
   "source": [
    "from sklearn.model_selection import train_test_split\n",
    "X_train,X_test,y_train,y_test = train_test_split(X,y,test_size=0.3,random_state = 78)"
   ]
  },
  {
   "cell_type": "code",
   "execution_count": 83,
   "id": "230d9faf",
   "metadata": {},
   "outputs": [],
   "source": [
    "tree_depth_train_score = []\n",
    "tree_depth_test_score = []\n",
    "\n",
    "for i in range(1,10):\n",
    "    classifier = DecisionTreeClassifier(max_depth=i)\n",
    "    classifier.fit(X_train,y_train)\n",
    "    tt = classifier.score(X_train,y_train)\n",
    "    pp = classifier.score(X_test,y_test)\n",
    "    \n",
    "    tree_depth_test_score.append(pp)\n",
    "    tree_depth_train_score.append(tt)"
   ]
  },
  {
   "cell_type": "code",
   "execution_count": 84,
   "id": "66630592",
   "metadata": {},
   "outputs": [
    {
     "data": {
      "text/plain": [
       "[0.9643658810325477,\n",
       " 0.9643658810325477,\n",
       " 0.9643658810325477,\n",
       " 0.9645903479236813,\n",
       " 0.9652076318742986,\n",
       " 0.9686307519640853,\n",
       " 0.9726711560044894,\n",
       " 0.9778338945005611,\n",
       " 0.9810886644219977]"
      ]
     },
     "execution_count": 84,
     "metadata": {},
     "output_type": "execute_result"
    }
   ],
   "source": [
    "tree_depth_train_score"
   ]
  },
  {
   "cell_type": "code",
   "execution_count": 85,
   "id": "690b10c5",
   "metadata": {},
   "outputs": [
    {
     "data": {
      "text/plain": [
       "[0.964126734747316,\n",
       " 0.964126734747316,\n",
       " 0.964126734747316,\n",
       " 0.9636030374443572,\n",
       " 0.9628174914899188,\n",
       " 0.9668761455878502,\n",
       " 0.9697564807541241,\n",
       " 0.9721131186174391,\n",
       " 0.9725058915946583]"
      ]
     },
     "execution_count": 85,
     "metadata": {},
     "output_type": "execute_result"
    }
   ],
   "source": [
    "tree_depth_test_score"
   ]
  },
  {
   "cell_type": "code",
   "execution_count": 86,
   "id": "f981837f",
   "metadata": {
    "scrolled": true
   },
   "outputs": [
    {
     "data": {
      "text/plain": [
       "0.969235565531862"
      ]
     },
     "execution_count": 86,
     "metadata": {},
     "output_type": "execute_result"
    }
   ],
   "source": [
    "np.mean(tree_depth_train_score)"
   ]
  },
  {
   "cell_type": "code",
   "execution_count": 87,
   "id": "b731fb5f",
   "metadata": {
    "scrolled": true
   },
   "outputs": [
    {
     "data": {
      "text/plain": [
       "0.9666724855255884"
      ]
     },
     "execution_count": 87,
     "metadata": {},
     "output_type": "execute_result"
    }
   ],
   "source": [
    "np.mean(tree_depth_test_score)"
   ]
  },
  {
   "cell_type": "code",
   "execution_count": 89,
   "id": "0369303e",
   "metadata": {},
   "outputs": [
    {
     "data": {
      "text/html": [
       "<div>\n",
       "<style scoped>\n",
       "    .dataframe tbody tr th:only-of-type {\n",
       "        vertical-align: middle;\n",
       "    }\n",
       "\n",
       "    .dataframe tbody tr th {\n",
       "        vertical-align: top;\n",
       "    }\n",
       "\n",
       "    .dataframe thead th {\n",
       "        text-align: right;\n",
       "    }\n",
       "</style>\n",
       "<table border=\"1\" class=\"dataframe\">\n",
       "  <thead>\n",
       "    <tr style=\"text-align: right;\">\n",
       "      <th></th>\n",
       "      <th>id</th>\n",
       "      <th>year</th>\n",
       "      <th>institute_type</th>\n",
       "      <th>round_no</th>\n",
       "      <th>quota</th>\n",
       "      <th>pool</th>\n",
       "      <th>institute_short</th>\n",
       "      <th>program_name</th>\n",
       "      <th>program_duration</th>\n",
       "      <th>degree_short</th>\n",
       "      <th>category</th>\n",
       "      <th>opening_rank</th>\n",
       "      <th>closing_rank</th>\n",
       "      <th>is_preparatory</th>\n",
       "    </tr>\n",
       "  </thead>\n",
       "  <tbody>\n",
       "    <tr>\n",
       "      <th>4258</th>\n",
       "      <td>4259</td>\n",
       "      <td>3</td>\n",
       "      <td>0</td>\n",
       "      <td>7</td>\n",
       "      <td>0</td>\n",
       "      <td>1</td>\n",
       "      <td>4</td>\n",
       "      <td>0</td>\n",
       "      <td>0</td>\n",
       "      <td>4</td>\n",
       "      <td>7</td>\n",
       "      <td>3</td>\n",
       "      <td>3</td>\n",
       "      <td>1</td>\n",
       "    </tr>\n",
       "    <tr>\n",
       "      <th>4283</th>\n",
       "      <td>4284</td>\n",
       "      <td>3</td>\n",
       "      <td>0</td>\n",
       "      <td>7</td>\n",
       "      <td>0</td>\n",
       "      <td>0</td>\n",
       "      <td>4</td>\n",
       "      <td>31</td>\n",
       "      <td>0</td>\n",
       "      <td>7</td>\n",
       "      <td>8</td>\n",
       "      <td>159</td>\n",
       "      <td>159</td>\n",
       "      <td>1</td>\n",
       "    </tr>\n",
       "    <tr>\n",
       "      <th>4297</th>\n",
       "      <td>4298</td>\n",
       "      <td>3</td>\n",
       "      <td>0</td>\n",
       "      <td>7</td>\n",
       "      <td>0</td>\n",
       "      <td>1</td>\n",
       "      <td>4</td>\n",
       "      <td>32</td>\n",
       "      <td>0</td>\n",
       "      <td>4</td>\n",
       "      <td>2</td>\n",
       "      <td>15</td>\n",
       "      <td>15</td>\n",
       "      <td>1</td>\n",
       "    </tr>\n",
       "    <tr>\n",
       "      <th>4299</th>\n",
       "      <td>4300</td>\n",
       "      <td>3</td>\n",
       "      <td>0</td>\n",
       "      <td>7</td>\n",
       "      <td>0</td>\n",
       "      <td>1</td>\n",
       "      <td>4</td>\n",
       "      <td>32</td>\n",
       "      <td>0</td>\n",
       "      <td>4</td>\n",
       "      <td>7</td>\n",
       "      <td>8</td>\n",
       "      <td>8</td>\n",
       "      <td>1</td>\n",
       "    </tr>\n",
       "    <tr>\n",
       "      <th>4307</th>\n",
       "      <td>4454</td>\n",
       "      <td>3</td>\n",
       "      <td>0</td>\n",
       "      <td>7</td>\n",
       "      <td>0</td>\n",
       "      <td>1</td>\n",
       "      <td>5</td>\n",
       "      <td>32</td>\n",
       "      <td>0</td>\n",
       "      <td>4</td>\n",
       "      <td>2</td>\n",
       "      <td>10</td>\n",
       "      <td>10</td>\n",
       "      <td>1</td>\n",
       "    </tr>\n",
       "    <tr>\n",
       "      <th>...</th>\n",
       "      <td>...</td>\n",
       "      <td>...</td>\n",
       "      <td>...</td>\n",
       "      <td>...</td>\n",
       "      <td>...</td>\n",
       "      <td>...</td>\n",
       "      <td>...</td>\n",
       "      <td>...</td>\n",
       "      <td>...</td>\n",
       "      <td>...</td>\n",
       "      <td>...</td>\n",
       "      <td>...</td>\n",
       "      <td>...</td>\n",
       "      <td>...</td>\n",
       "    </tr>\n",
       "    <tr>\n",
       "      <th>32607</th>\n",
       "      <td>13108</td>\n",
       "      <td>5</td>\n",
       "      <td>0</td>\n",
       "      <td>2</td>\n",
       "      <td>0</td>\n",
       "      <td>1</td>\n",
       "      <td>20</td>\n",
       "      <td>75</td>\n",
       "      <td>1</td>\n",
       "      <td>10</td>\n",
       "      <td>8</td>\n",
       "      <td>178</td>\n",
       "      <td>653</td>\n",
       "      <td>1</td>\n",
       "    </tr>\n",
       "    <tr>\n",
       "      <th>32608</th>\n",
       "      <td>13109</td>\n",
       "      <td>5</td>\n",
       "      <td>0</td>\n",
       "      <td>2</td>\n",
       "      <td>0</td>\n",
       "      <td>0</td>\n",
       "      <td>20</td>\n",
       "      <td>75</td>\n",
       "      <td>1</td>\n",
       "      <td>10</td>\n",
       "      <td>8</td>\n",
       "      <td>1251</td>\n",
       "      <td>1251</td>\n",
       "      <td>1</td>\n",
       "    </tr>\n",
       "    <tr>\n",
       "      <th>32631</th>\n",
       "      <td>13132</td>\n",
       "      <td>5</td>\n",
       "      <td>0</td>\n",
       "      <td>2</td>\n",
       "      <td>0</td>\n",
       "      <td>1</td>\n",
       "      <td>20</td>\n",
       "      <td>98</td>\n",
       "      <td>0</td>\n",
       "      <td>4</td>\n",
       "      <td>3</td>\n",
       "      <td>105</td>\n",
       "      <td>105</td>\n",
       "      <td>1</td>\n",
       "    </tr>\n",
       "    <tr>\n",
       "      <th>32638</th>\n",
       "      <td>13139</td>\n",
       "      <td>5</td>\n",
       "      <td>0</td>\n",
       "      <td>2</td>\n",
       "      <td>0</td>\n",
       "      <td>0</td>\n",
       "      <td>20</td>\n",
       "      <td>110</td>\n",
       "      <td>0</td>\n",
       "      <td>4</td>\n",
       "      <td>8</td>\n",
       "      <td>460</td>\n",
       "      <td>460</td>\n",
       "      <td>1</td>\n",
       "    </tr>\n",
       "    <tr>\n",
       "      <th>32648</th>\n",
       "      <td>13149</td>\n",
       "      <td>5</td>\n",
       "      <td>0</td>\n",
       "      <td>2</td>\n",
       "      <td>0</td>\n",
       "      <td>1</td>\n",
       "      <td>20</td>\n",
       "      <td>122</td>\n",
       "      <td>1</td>\n",
       "      <td>6</td>\n",
       "      <td>8</td>\n",
       "      <td>305</td>\n",
       "      <td>305</td>\n",
       "      <td>1</td>\n",
       "    </tr>\n",
       "  </tbody>\n",
       "</table>\n",
       "<p>909 rows × 14 columns</p>\n",
       "</div>"
      ],
      "text/plain": [
       "          id  year  institute_type  round_no  quota  pool  institute_short  \\\n",
       "4258    4259     3               0         7      0     1                4   \n",
       "4283    4284     3               0         7      0     0                4   \n",
       "4297    4298     3               0         7      0     1                4   \n",
       "4299    4300     3               0         7      0     1                4   \n",
       "4307    4454     3               0         7      0     1                5   \n",
       "...      ...   ...             ...       ...    ...   ...              ...   \n",
       "32607  13108     5               0         2      0     1               20   \n",
       "32608  13109     5               0         2      0     0               20   \n",
       "32631  13132     5               0         2      0     1               20   \n",
       "32638  13139     5               0         2      0     0               20   \n",
       "32648  13149     5               0         2      0     1               20   \n",
       "\n",
       "       program_name  program_duration  degree_short  category  opening_rank  \\\n",
       "4258              0                 0             4         7             3   \n",
       "4283             31                 0             7         8           159   \n",
       "4297             32                 0             4         2            15   \n",
       "4299             32                 0             4         7             8   \n",
       "4307             32                 0             4         2            10   \n",
       "...             ...               ...           ...       ...           ...   \n",
       "32607            75                 1            10         8           178   \n",
       "32608            75                 1            10         8          1251   \n",
       "32631            98                 0             4         3           105   \n",
       "32638           110                 0             4         8           460   \n",
       "32648           122                 1             6         8           305   \n",
       "\n",
       "       closing_rank  is_preparatory  \n",
       "4258              3               1  \n",
       "4283            159               1  \n",
       "4297             15               1  \n",
       "4299              8               1  \n",
       "4307             10               1  \n",
       "...             ...             ...  \n",
       "32607           653               1  \n",
       "32608          1251               1  \n",
       "32631           105               1  \n",
       "32638           460               1  \n",
       "32648           305               1  \n",
       "\n",
       "[909 rows x 14 columns]"
      ]
     },
     "execution_count": 89,
     "metadata": {},
     "output_type": "execute_result"
    }
   ],
   "source": [
    "df[df.is_preparatory==1]"
   ]
  },
  {
   "cell_type": "code",
   "execution_count": 90,
   "id": "35cd4e31",
   "metadata": {},
   "outputs": [
    {
     "data": {
      "text/plain": [
       "0.9725058915946583"
      ]
     },
     "execution_count": 90,
     "metadata": {},
     "output_type": "execute_result"
    }
   ],
   "source": [
    "classifier.score(X_test,y_test)"
   ]
  },
  {
   "cell_type": "code",
   "execution_count": 91,
   "id": "a8028dfa",
   "metadata": {},
   "outputs": [
    {
     "data": {
      "text/plain": [
       "array([0, 0, 0, ..., 0, 0, 0], dtype=int64)"
      ]
     },
     "execution_count": 91,
     "metadata": {},
     "output_type": "execute_result"
    }
   ],
   "source": [
    "y_pred=classifier.predict(X_test)\n",
    "y_pred"
   ]
  },
  {
   "cell_type": "code",
   "execution_count": 92,
   "id": "46a4df99",
   "metadata": {},
   "outputs": [
    {
     "data": {
      "text/plain": [
       "0.9725058915946583"
      ]
     },
     "execution_count": 92,
     "metadata": {},
     "output_type": "execute_result"
    }
   ],
   "source": [
    "from sklearn.metrics import accuracy_score\n",
    "sc = accuracy_score(y_pred,y_test)\n",
    "sc"
   ]
  },
  {
   "cell_type": "code",
   "execution_count": 94,
   "id": "f0edd146",
   "metadata": {},
   "outputs": [
    {
     "data": {
      "text/plain": [
       "array([1], dtype=int64)"
      ]
     },
     "execution_count": 94,
     "metadata": {},
     "output_type": "execute_result"
    }
   ],
   "source": [
    "classifier.predict([[3,0,7,0,1,5,32,0,4,2,10,10]])"
   ]
  },
  {
   "cell_type": "code",
   "execution_count": 96,
   "id": "ebb81f6f",
   "metadata": {},
   "outputs": [
    {
     "name": "stdout",
     "output_type": "stream",
     "text": [
      "              precision    recall  f1-score   support\n",
      "\n",
      "           0       0.98      0.99      0.99      7364\n",
      "           1       0.67      0.46      0.55       274\n",
      "\n",
      "    accuracy                           0.97      7638\n",
      "   macro avg       0.82      0.73      0.77      7638\n",
      "weighted avg       0.97      0.97      0.97      7638\n",
      "\n"
     ]
    }
   ],
   "source": [
    "from sklearn.metrics import classification_report\n",
    "cr = classification_report(y_test,y_pred)\n",
    "\n",
    "print(cr)"
   ]
  },
  {
   "cell_type": "code",
   "execution_count": 97,
   "id": "0555b1c7",
   "metadata": {},
   "outputs": [],
   "source": [
    "from sklearn.metrics import confusion_matrix\n",
    "cm = confusion_matrix(y_test,y_pred)"
   ]
  },
  {
   "cell_type": "code",
   "execution_count": 100,
   "id": "a96caad5",
   "metadata": {},
   "outputs": [
    {
     "data": {
      "text/plain": [
       "<AxesSubplot:>"
      ]
     },
     "execution_count": 100,
     "metadata": {},
     "output_type": "execute_result"
    },
    {
     "data": {
      "image/png": "[encoded data removed]",
      "text/plain": [
       "<Figure size 720x360 with 2 Axes>"
      ]
     },
     "metadata": {},
     "output_type": "display_data"
    }
   ],
   "source": [
    "sns.set(rc = {'figure.figsize':(10,5)})\n",
    "sns.heatmap(cm,annot=True,cmap=\"Greens\")"
   ]
  },
  {
   "cell_type": "code",
   "execution_count": 101,
   "id": "775037ef",
   "metadata": {},
   "outputs": [],
   "source": [
    "from sklearn.neighbors import KNeighborsClassifier"
   ]
  },
  {
   "cell_type": "code",
   "execution_count": 102,
   "id": "edd88d21",
   "metadata": {},
   "outputs": [],
   "source": [
    "knn_depth_train_score = []\n",
    "knn_depth_test_score = []\n",
    "\n",
    "for i in range(1,10):\n",
    "    classifier = KNeighborsClassifier(n_neighbors=i)\n",
    "    classifier.fit(X_train,y_train)\n",
    "    tt = classifier.score(X_train,y_train)\n",
    "    pp = classifier.score(X_test,y_test)\n",
    "    \n",
    "    knn_depth_test_score.append(pp)\n",
    "    knn_depth_train_score.append(tt)"
   ]
  },
  {
   "cell_type": "code",
   "execution_count": 103,
   "id": "b8152b6e",
   "metadata": {},
   "outputs": [
    {
     "data": {
      "text/plain": [
       "[1.0,\n",
       " 0.9776094276094276,\n",
       " 0.9768799102132435,\n",
       " 0.9707070707070707,\n",
       " 0.9709315375982043,\n",
       " 0.9687991021324355,\n",
       " 0.9685746352413019,\n",
       " 0.9667789001122334,\n",
       " 0.9673961840628508]"
      ]
     },
     "execution_count": 103,
     "metadata": {},
     "output_type": "execute_result"
    }
   ],
   "source": [
    "knn_depth_train_score"
   ]
  },
  {
   "cell_type": "code",
   "execution_count": 104,
   "id": "a8645144",
   "metadata": {},
   "outputs": [
    {
     "data": {
      "text/plain": [
       "[0.9579732914375491,\n",
       " 0.9630793401413983,\n",
       " 0.9586279130662477,\n",
       " 0.9624247185126996,\n",
       " 0.9615082482325216,\n",
       " 0.9633411887928777,\n",
       " 0.9616391725582614,\n",
       " 0.9637339617700968,\n",
       " 0.9629484158156586]"
      ]
     },
     "execution_count": 104,
     "metadata": {},
     "output_type": "execute_result"
    }
   ],
   "source": [
    "knn_depth_test_score"
   ]
  },
  {
   "cell_type": "code",
   "execution_count": 107,
   "id": "81bcc62a",
   "metadata": {},
   "outputs": [],
   "source": [
    "y_pred=classifier.predict(X_test)"
   ]
  },
  {
   "cell_type": "code",
   "execution_count": 108,
   "id": "c76b642e",
   "metadata": {},
   "outputs": [
    {
     "name": "stdout",
     "output_type": "stream",
     "text": [
      "              precision    recall  f1-score   support\n",
      "\n",
      "           0       0.97      1.00      0.98      7364\n",
      "           1       0.42      0.09      0.15       274\n",
      "\n",
      "    accuracy                           0.96      7638\n",
      "   macro avg       0.69      0.54      0.56      7638\n",
      "weighted avg       0.95      0.96      0.95      7638\n",
      "\n"
     ]
    }
   ],
   "source": [
    "print(classification_report(y_test,y_pred))"
   ]
  },
  {
   "cell_type": "code",
   "execution_count": 1,
   "id": "19cfa35e",
   "metadata": {},
   "outputs": [],
   "source": [
    "import matplotlib.pyplot as plt\n",
    "%matplotlib inline"
   ]
  },
  {
   "cell_type": "code",
   "execution_count": 19,
   "id": "24bc68a6",
   "metadata": {},
   "outputs": [
    {
     "data": {
      "text/html": [
       "<div>\n",
       "<style scoped>\n",
       "    .dataframe tbody tr th:only-of-type {\n",
       "        vertical-align: middle;\n",
       "    }\n",
       "\n",
       "    .dataframe tbody tr th {\n",
       "        vertical-align: top;\n",
       "    }\n",
       "\n",
       "    .dataframe thead th {\n",
       "        text-align: right;\n",
       "    }\n",
       "</style>\n",
       "<table border=\"1\" class=\"dataframe\">\n",
       "  <thead>\n",
       "    <tr style=\"text-align: right;\">\n",
       "      <th></th>\n",
       "      <th>id</th>\n",
       "      <th>year</th>\n",
       "      <th>institute_type</th>\n",
       "      <th>round_no</th>\n",
       "      <th>quota</th>\n",
       "      <th>pool</th>\n",
       "      <th>institute_short</th>\n",
       "      <th>program_name</th>\n",
       "      <th>program_duration</th>\n",
       "      <th>degree_short</th>\n",
       "      <th>category</th>\n",
       "      <th>opening_rank</th>\n",
       "      <th>closing_rank</th>\n",
       "      <th>is_preparatory</th>\n",
       "    </tr>\n",
       "  </thead>\n",
       "  <tbody>\n",
       "    <tr>\n",
       "      <th>0</th>\n",
       "      <td>1</td>\n",
       "      <td>2016</td>\n",
       "      <td>IIT</td>\n",
       "      <td>6</td>\n",
       "      <td>AI</td>\n",
       "      <td>Gender-Neutral</td>\n",
       "      <td>IIT-Bombay</td>\n",
       "      <td>Aerospace Engineering</td>\n",
       "      <td>4 Years</td>\n",
       "      <td>B.Tech</td>\n",
       "      <td>GEN</td>\n",
       "      <td>838</td>\n",
       "      <td>1841</td>\n",
       "      <td>0</td>\n",
       "    </tr>\n",
       "    <tr>\n",
       "      <th>1</th>\n",
       "      <td>2</td>\n",
       "      <td>2016</td>\n",
       "      <td>IIT</td>\n",
       "      <td>6</td>\n",
       "      <td>AI</td>\n",
       "      <td>Gender-Neutral</td>\n",
       "      <td>IIT-Bombay</td>\n",
       "      <td>Aerospace Engineering</td>\n",
       "      <td>4 Years</td>\n",
       "      <td>B.Tech</td>\n",
       "      <td>OBC-NCL</td>\n",
       "      <td>408</td>\n",
       "      <td>1098</td>\n",
       "      <td>0</td>\n",
       "    </tr>\n",
       "    <tr>\n",
       "      <th>2</th>\n",
       "      <td>3</td>\n",
       "      <td>2016</td>\n",
       "      <td>IIT</td>\n",
       "      <td>6</td>\n",
       "      <td>AI</td>\n",
       "      <td>Gender-Neutral</td>\n",
       "      <td>IIT-Bombay</td>\n",
       "      <td>Aerospace Engineering</td>\n",
       "      <td>4 Years</td>\n",
       "      <td>B.Tech</td>\n",
       "      <td>SC</td>\n",
       "      <td>297</td>\n",
       "      <td>468</td>\n",
       "      <td>0</td>\n",
       "    </tr>\n",
       "    <tr>\n",
       "      <th>3</th>\n",
       "      <td>4</td>\n",
       "      <td>2016</td>\n",
       "      <td>IIT</td>\n",
       "      <td>6</td>\n",
       "      <td>AI</td>\n",
       "      <td>Gender-Neutral</td>\n",
       "      <td>IIT-Bombay</td>\n",
       "      <td>Aerospace Engineering</td>\n",
       "      <td>4 Years</td>\n",
       "      <td>B.Tech</td>\n",
       "      <td>ST</td>\n",
       "      <td>79</td>\n",
       "      <td>145</td>\n",
       "      <td>0</td>\n",
       "    </tr>\n",
       "    <tr>\n",
       "      <th>4</th>\n",
       "      <td>5</td>\n",
       "      <td>2016</td>\n",
       "      <td>IIT</td>\n",
       "      <td>6</td>\n",
       "      <td>AI</td>\n",
       "      <td>Gender-Neutral</td>\n",
       "      <td>IIT-Bombay</td>\n",
       "      <td>Aerospace Engineering</td>\n",
       "      <td>4 Years</td>\n",
       "      <td>B.Tech</td>\n",
       "      <td>GEN-PWD</td>\n",
       "      <td>94</td>\n",
       "      <td>94</td>\n",
       "      <td>0</td>\n",
       "    </tr>\n",
       "    <tr>\n",
       "      <th>...</th>\n",
       "      <td>...</td>\n",
       "      <td>...</td>\n",
       "      <td>...</td>\n",
       "      <td>...</td>\n",
       "      <td>...</td>\n",
       "      <td>...</td>\n",
       "      <td>...</td>\n",
       "      <td>...</td>\n",
       "      <td>...</td>\n",
       "      <td>...</td>\n",
       "      <td>...</td>\n",
       "      <td>...</td>\n",
       "      <td>...</td>\n",
       "      <td>...</td>\n",
       "    </tr>\n",
       "    <tr>\n",
       "      <th>64703</th>\n",
       "      <td>31136</td>\n",
       "      <td>2021</td>\n",
       "      <td>NIT</td>\n",
       "      <td>1</td>\n",
       "      <td>JK</td>\n",
       "      <td>Female-Only</td>\n",
       "      <td>NIT-Srinagar</td>\n",
       "      <td>Electronics and Communication Engineering</td>\n",
       "      <td>4 Years</td>\n",
       "      <td>B.Tech</td>\n",
       "      <td>SC</td>\n",
       "      <td>14185</td>\n",
       "      <td>24048</td>\n",
       "      <td>0</td>\n",
       "    </tr>\n",
       "    <tr>\n",
       "      <th>64704</th>\n",
       "      <td>31137</td>\n",
       "      <td>2021</td>\n",
       "      <td>NIT</td>\n",
       "      <td>1</td>\n",
       "      <td>JK</td>\n",
       "      <td>Gender-Neutral</td>\n",
       "      <td>NIT-Srinagar</td>\n",
       "      <td>Electronics and Communication Engineering</td>\n",
       "      <td>4 Years</td>\n",
       "      <td>B.Tech</td>\n",
       "      <td>ST</td>\n",
       "      <td>2736</td>\n",
       "      <td>4171</td>\n",
       "      <td>0</td>\n",
       "    </tr>\n",
       "    <tr>\n",
       "      <th>64705</th>\n",
       "      <td>31138</td>\n",
       "      <td>2021</td>\n",
       "      <td>NIT</td>\n",
       "      <td>1</td>\n",
       "      <td>JK</td>\n",
       "      <td>Female-Only</td>\n",
       "      <td>NIT-Srinagar</td>\n",
       "      <td>Electronics and Communication Engineering</td>\n",
       "      <td>4 Years</td>\n",
       "      <td>B.Tech</td>\n",
       "      <td>ST</td>\n",
       "      <td>10870</td>\n",
       "      <td>10870</td>\n",
       "      <td>0</td>\n",
       "    </tr>\n",
       "    <tr>\n",
       "      <th>64706</th>\n",
       "      <td>31139</td>\n",
       "      <td>2021</td>\n",
       "      <td>NIT</td>\n",
       "      <td>1</td>\n",
       "      <td>LA</td>\n",
       "      <td>Gender-Neutral</td>\n",
       "      <td>NIT-Srinagar</td>\n",
       "      <td>Electronics and Communication Engineering</td>\n",
       "      <td>4 Years</td>\n",
       "      <td>B.Tech</td>\n",
       "      <td>GEN</td>\n",
       "      <td>166453</td>\n",
       "      <td>265454</td>\n",
       "      <td>0</td>\n",
       "    </tr>\n",
       "    <tr>\n",
       "      <th>64707</th>\n",
       "      <td>31140</td>\n",
       "      <td>2021</td>\n",
       "      <td>NIT</td>\n",
       "      <td>1</td>\n",
       "      <td>LA</td>\n",
       "      <td>Female-Only</td>\n",
       "      <td>NIT-Srinagar</td>\n",
       "      <td>Electronics and Communication Engineering</td>\n",
       "      <td>4 Years</td>\n",
       "      <td>B.Tech</td>\n",
       "      <td>GEN</td>\n",
       "      <td>215054</td>\n",
       "      <td>215054</td>\n",
       "      <td>0</td>\n",
       "    </tr>\n",
       "  </tbody>\n",
       "</table>\n",
       "<p>25458 rows × 14 columns</p>\n",
       "</div>"
      ],
      "text/plain": [
       "          id  year institute_type  round_no quota            pool  \\\n",
       "0          1  2016            IIT         6    AI  Gender-Neutral   \n",
       "1          2  2016            IIT         6    AI  Gender-Neutral   \n",
       "2          3  2016            IIT         6    AI  Gender-Neutral   \n",
       "3          4  2016            IIT         6    AI  Gender-Neutral   \n",
       "4          5  2016            IIT         6    AI  Gender-Neutral   \n",
       "...      ...   ...            ...       ...   ...             ...   \n",
       "64703  31136  2021            NIT         1    JK     Female-Only   \n",
       "64704  31137  2021            NIT         1    JK  Gender-Neutral   \n",
       "64705  31138  2021            NIT         1    JK     Female-Only   \n",
       "64706  31139  2021            NIT         1    LA  Gender-Neutral   \n",
       "64707  31140  2021            NIT         1    LA     Female-Only   \n",
       "\n",
       "      institute_short                               program_name  \\\n",
       "0          IIT-Bombay                      Aerospace Engineering   \n",
       "1          IIT-Bombay                      Aerospace Engineering   \n",
       "2          IIT-Bombay                      Aerospace Engineering   \n",
       "3          IIT-Bombay                      Aerospace Engineering   \n",
       "4          IIT-Bombay                      Aerospace Engineering   \n",
       "...               ...                                        ...   \n",
       "64703    NIT-Srinagar  Electronics and Communication Engineering   \n",
       "64704    NIT-Srinagar  Electronics and Communication Engineering   \n",
       "64705    NIT-Srinagar  Electronics and Communication Engineering   \n",
       "64706    NIT-Srinagar  Electronics and Communication Engineering   \n",
       "64707    NIT-Srinagar  Electronics and Communication Engineering   \n",
       "\n",
       "      program_duration degree_short category  opening_rank  closing_rank  \\\n",
       "0              4 Years       B.Tech      GEN           838          1841   \n",
       "1              4 Years       B.Tech  OBC-NCL           408          1098   \n",
       "2              4 Years       B.Tech       SC           297           468   \n",
       "3              4 Years       B.Tech       ST            79           145   \n",
       "4              4 Years       B.Tech  GEN-PWD            94            94   \n",
       "...                ...          ...      ...           ...           ...   \n",
       "64703          4 Years       B.Tech       SC         14185         24048   \n",
       "64704          4 Years       B.Tech       ST          2736          4171   \n",
       "64705          4 Years       B.Tech       ST         10870         10870   \n",
       "64706          4 Years       B.Tech      GEN        166453        265454   \n",
       "64707          4 Years       B.Tech      GEN        215054        215054   \n",
       "\n",
       "       is_preparatory  \n",
       "0                   0  \n",
       "1                   0  \n",
       "2                   0  \n",
       "3                   0  \n",
       "4                   0  \n",
       "...               ...  \n",
       "64703               0  \n",
       "64704               0  \n",
       "64705               0  \n",
       "64706               0  \n",
       "64707               0  \n",
       "\n",
       "[25458 rows x 14 columns]"
      ]
     },
     "execution_count": 19,
     "metadata": {},
     "output_type": "execute_result"
    }
   ],
   "source": [
    "df"
   ]
  },
  {
   "cell_type": "code",
   "execution_count": 22,
   "id": "3a9385b0",
   "metadata": {},
   "outputs": [
    {
     "data": {
      "image/png": "[encoded data removed]",
      "text/plain": [
       "<Figure size 432x288 with 1 Axes>"
      ]
     },
     "metadata": {
      "needs_background": "light"
     },
     "output_type": "display_data"
    }
   ],
   "source": [
    "plt.scatter(df.opening_rank,df.closing_rank)\n",
    "plt.show()"
   ]
  },
  {
   "cell_type": "code",
   "execution_count": 21,
   "id": "34aec8fa",
   "metadata": {},
   "outputs": [
    {
     "data": {
      "text/plain": [
       "0           838\n",
       "1           408\n",
       "2           297\n",
       "3            79\n",
       "4            94\n",
       "          ...  \n",
       "64703     14185\n",
       "64704      2736\n",
       "64705     10870\n",
       "64706    166453\n",
       "64707    215054\n",
       "Name: opening_rank, Length: 25458, dtype: int64"
      ]
     },
     "execution_count": 21,
     "metadata": {},
     "output_type": "execute_result"
    }
   ],
   "source": [
    "df.opening_rank"
   ]
  },
  {
   "cell_type": "code",
   "execution_count": 24,
   "id": "a40965fa",
   "metadata": {},
   "outputs": [
    {
     "data": {
      "text/plain": [
       "<AxesSubplot:ylabel='opening_rank'>"
      ]
     },
     "execution_count": 24,
     "metadata": {},
     "output_type": "execute_result"
    },
    {
     "data": {
      "image/png": "[encoded data removed]",
      "text/plain": [
       "<Figure size 1008x504 with 1 Axes>"
      ]
     },
     "metadata": {
      "needs_background": "light"
     },
     "output_type": "display_data"
    }
   ],
   "source": [
    "import seaborn as sns\n",
    "plt.figure(figsize=(14,7))\n",
    "sns.scatterplot(data=df.opening_rank)"
   ]
  },
  {
   "cell_type": "code",
   "execution_count": 27,
   "id": "51281c5c",
   "metadata": {},
   "outputs": [
    {
     "data": {
      "text/plain": [
       "<AxesSubplot:xlabel='opening_rank', ylabel='closing_rank'>"
      ]
     },
     "execution_count": 27,
     "metadata": {},
     "output_type": "execute_result"
    },
    {
     "data": {
      "image/png": "[encoded data removed]",
      "text/plain": [
       "<Figure size 1008x504 with 1 Axes>"
      ]
     },
     "metadata": {
      "needs_background": "light"
     },
     "output_type": "display_data"
    }
   ],
   "source": [
    "plt.figure(figsize=(14,7))\n",
    "sns.regplot(x=df.opening_rank,y=df.closing_rank)"
   ]
  },
  {
   "cell_type": "code",
   "execution_count": 32,
   "id": "7f23593a",
   "metadata": {},
   "outputs": [],
   "source": [
    "## Oversampling\n",
    "\n",
    "df_0 = df[df.is_preparatory==0]\n",
    "df_1 = df[df.is_preparatory==1]\n",
    "\n",
    "count_0,count_1 = df_0.shape[0],df_1.shape[1]\n",
    "\n",
    "df_class_1 = df_1.sample(count_0,replace=True)"
   ]
  },
  {
   "cell_type": "code",
   "execution_count": 33,
   "id": "01e8d0b9",
   "metadata": {},
   "outputs": [
    {
     "data": {
      "text/plain": [
       "(24549, 223)"
      ]
     },
     "execution_count": 33,
     "metadata": {},
     "output_type": "execute_result"
    }
   ],
   "source": [
    "df_0.shape"
   ]
  },
  {
   "cell_type": "code",
   "execution_count": 34,
   "id": "fdc31c7f",
   "metadata": {},
   "outputs": [
    {
     "data": {
      "text/plain": [
       "(24549, 223)"
      ]
     },
     "execution_count": 34,
     "metadata": {},
     "output_type": "execute_result"
    }
   ],
   "source": [
    "df_class_1.shape"
   ]
  },
  {
   "cell_type": "code",
   "execution_count": 36,
   "id": "ee3f1a14",
   "metadata": {},
   "outputs": [],
   "source": [
    "new_df = pd.concat([df_0,df_class_1],axis=0)\n",
    "from sklearn.utils import shuffle\n",
    "\n",
    "new_df = shuffle(new_df)"
   ]
  },
  {
   "cell_type": "code",
   "execution_count": 38,
   "id": "9a2d232f",
   "metadata": {},
   "outputs": [],
   "source": [
    "X = new_df.drop(['is_preparatory','id'],axis=1)\n",
    "y = new_df.is_preparatory"
   ]
  },
  {
   "cell_type": "code",
   "execution_count": 39,
   "id": "51ae21d3",
   "metadata": {},
   "outputs": [],
   "source": [
    "from sklearn.model_selection import train_test_split\n",
    "X_train,X_test,y_train,y_test = train_test_split(X,y,test_size=0.3)"
   ]
  },
  {
   "cell_type": "code",
   "execution_count": 41,
   "id": "4846656d",
   "metadata": {},
   "outputs": [
    {
     "data": {
      "text/plain": [
       "array([0.95274949, 0.95437882, 0.93706721, 0.95193483, 0.9197556 ,\n",
       "       0.95397149, 0.95397149, 0.96211813, 0.95620289, 0.95335099])"
      ]
     },
     "execution_count": 41,
     "metadata": {},
     "output_type": "execute_result"
    }
   ],
   "source": [
    "from warnings import filterwarnings\n",
    "filterwarnings('ignore')\n",
    "from sklearn.linear_model import LogisticRegression\n",
    "classifier = LogisticRegression()\n",
    "from sklearn.model_selection import cross_val_score\n",
    "score = cross_val_score(classifier,X,y,cv=10)\n",
    "score"
   ]
  },
  {
   "cell_type": "code",
   "execution_count": 43,
   "id": "0f99c372",
   "metadata": {},
   "outputs": [
    {
     "name": "stdout",
     "output_type": "stream",
     "text": [
      "              precision    recall  f1-score   support\n",
      "\n",
      "           0       0.97      0.89      0.93      7286\n",
      "           1       0.90      0.98      0.94      7444\n",
      "\n",
      "    accuracy                           0.93     14730\n",
      "   macro avg       0.94      0.93      0.93     14730\n",
      "weighted avg       0.94      0.93      0.93     14730\n",
      "\n"
     ]
    }
   ],
   "source": [
    "classifier.fit(X_train,y_train)\n",
    "y_pred = classifier.predict(X_test)\n",
    "\n",
    "from sklearn.metrics import classification_report\n",
    "print(classification_report(y_test,y_pred))"
   ]
  },
  {
   "cell_type": "markdown",
   "id": "93823612",
   "metadata": {},
   "source": [
    "# Improved precision for Class 1 using Oversampling"
   ]
  }
 ],
 "metadata": {
  "kernelspec": {
   "display_name": "Python 3 (ipykernel)",
   "language": "python",
   "name": "python3"
  },
  "language_info": {
   "codemirror_mode": {
    "name": "ipython",
    "version": 3
   },
   "file_extension": ".py",
   "mimetype": "text/x-python",
   "name": "python",
   "nbconvert_exporter": "python",
   "pygments_lexer": "ipython3",
   "version": "3.9.6"
  }
 },
 "nbformat": 4,
 "nbformat_minor": 5
}
